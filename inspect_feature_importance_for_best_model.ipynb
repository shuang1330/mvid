{
 "cells": [
  {
   "cell_type": "code",
   "execution_count": 1,
   "metadata": {},
   "outputs": [],
   "source": [
    "import numpy as np\n",
    "import pandas as pd\n",
    "import pickle\n",
    "import os\n",
    "from lib.read_data import dataset,Datasets\n",
    "\n",
    "from sklearn.model_selection import train_test_split\n",
    "from sklearn.pipeline import Pipeline\n",
    "\n",
    "# feature extractors\n",
    "from sklearn.decomposition import PCA\n",
    "from sklearn.ensemble import RandomForestClassifier\n",
    "# classifiers\n",
    "from sklearn.linear_model import LogisticRegression\n",
    "from sklearn.linear_model import ElasticNet\n",
    "from sklearn.svm import SVC\n",
    "# finetuning\n",
    "from sklearn.model_selection import GridSearchCV\n",
    "# validation\n",
    "from sklearn import metrics\n",
    "from sklearn.metrics import confusion_matrix\n",
    "\n",
    "import matplotlib.pyplot as plt\n",
    "import matplotlib.pylab as pl\n",
    "% matplotlib inline"
   ]
  },
  {
   "cell_type": "code",
   "execution_count": 2,
   "metadata": {},
   "outputs": [],
   "source": [
    "def read_data_set(data_table,test_size=0.25,BENCHMARK=False):\n",
    "    '''\n",
    "    convert a pandas dataframe data table into Datasets(dataset,dataset)\n",
    "    '''\n",
    "    train, test = train_test_split(data_table,test_size=0.25)\n",
    "    train_x = train[[col for col in train.columns\n",
    "    if col not in ['INFO','gavin_res']]]\n",
    "    features = train_x.columns\n",
    "    train_x = np.array(train_x)\n",
    "    test_x = np.array(test[[col for col in train.columns\n",
    "    if col not in ['INFO','gavin_res']]])\n",
    "    train_y = np.array(train['INFO'],dtype=np.int8)\n",
    "    test_y = np.array(test['INFO'],dtype=np.int8)\n",
    "\n",
    "    # # check what columns are in the train Dataset\n",
    "    # for i in range(0,len(train_x.columns),5):\n",
    "    #     print(train_x.columns[i:i+5])\n",
    "\n",
    "    if BENCHMARK:\n",
    "        return Datasets(train=dataset(train_x,train_y,features),\n",
    "                        test=dataset(test_x,test_y,features)),\\\n",
    "                        train['gavin_res'],\\\n",
    "                        test['gavin_res']\n",
    "    return Datasets(train=dataset(train_x,train_y,features),\n",
    "                    test=dataset(test_x,test_y,features))\n",
    "\n",
    "def draw_roc_curve(fpr,tpr,score):\n",
    "    '''\n",
    "    draw roc curve\n",
    "    '''\n",
    "    plt.figure()\n",
    "    lw = 2\n",
    "    plt.plot(fpr, tpr, color='darkorange',\n",
    "            lw=lw, label='ROC curve (area = %0.2f)' % score)\n",
    "    plt.plot([0, 1], [0, 1], color='navy', lw=lw, linestyle='--')\n",
    "    plt.xlim([0.0, 1.0])\n",
    "    plt.ylim([0.0, 1.05])\n",
    "    plt.xlabel('False Positive Rate')\n",
    "    plt.ylabel('True Positive Rate')\n",
    "    plt.title('ROC curve')\n",
    "    plt.legend(loc=\"lower right\")\n",
    "    plt.show()\n",
    "\n",
    "def run_display_output(classifier,test,DRAW=False):\n",
    "    '''\n",
    "    get confusion matrix and auc score for test dataset\n",
    "    (optional) draw roc curve\n",
    "    '''\n",
    "    pred = classifier.predict(test.values)\n",
    "    tn, fp, fn, tp = confusion_matrix(test.labels,pred).ravel()#confusion matrix\n",
    "    sensitivity = tp/(fn+tp)\n",
    "    specificity = tn/(fp+tn)\n",
    "    prods = classifier.predict_proba(test.values)[:,1]\n",
    "    fpr, tpr, _ = metrics.roc_curve(test.labels, prods)\n",
    "    score = metrics.auc(fpr,tpr) #auc score\n",
    "    if DRAW:\n",
    "        draw_roc_curve(fpr,tpr,score)\n",
    "\n",
    "    return sensitivity, specificity, score\n",
    "\n",
    "def read_gavin(gavin_res, labels):\n",
    "    '''\n",
    "    compare gavin results with labels for a certain subset of data\n",
    "    '''\n",
    "    gavin_res = gavin_res.replace('Pathogenic',1)\n",
    "    gavin_res = gavin_res.replace('Benign',0)\n",
    "    tn_g, fp_g, fn_g, tp_g = \\\n",
    "    confusion_matrix(labels, gavin_res.astype(np.int8)).ravel()\n",
    "    sensitivity_g = tp_g/(fn_g+tp_g)\n",
    "    specificity_g = tn_g/(fp_g+tn_g)\n",
    "    return sensitivity_g, specificity_g\n",
    "\n",
    "def display_res_gavin_and_best_model(param_grid,pipeline,mvid,filename=None,DRAW=False):\n",
    "    '''\n",
    "    use model defined by pipeline to fit mvid Dataset\n",
    "    gridsearchCV determine the parameters given in param_grid\n",
    "    (optional) save the model in path given in filename\n",
    "    '''\n",
    "    classifier = GridSearchCV(estimator=pipeline,\n",
    "                              param_grid=param_grid)\n",
    "\n",
    "    print('Start training...')\n",
    "    classifier.fit(mvid.train.values,mvid.train.labels)\n",
    "    print('Model Description:\\n',classifier.best_estimator_)\n",
    "    if filename:\n",
    "        pickle.dump(classifier,open(filename,'wb'))\n",
    "        print('Saved model to path:',filename)\n",
    "    sensitivity,specificity,score = run_display_output(classifier,mvid.test,DRAW)\n",
    "    print('>>> best model results: sensitivity: {:.{prec}}\\tspecificity: {:.{prec}f}\\tauc:{}'.\\\n",
    "    format(sensitivity,specificity,score,prec=3))\n",
    "    return classifier\n"
   ]
  },
  {
   "cell_type": "code",
   "execution_count": 5,
   "metadata": {},
   "outputs": [
    {
     "name": "stdout",
     "output_type": "stream",
     "text": [
      "Dataset loaded. (186, 180)\n",
      "Start training...\n",
      "Model Description:\n",
      " Pipeline(memory=None,\n",
      "     steps=[('pca', PCA(copy=True, iterated_power='auto', n_components=52, random_state=None,\n",
      "  svd_solver='auto', tol=0.0, whiten=False)), ('logr', LogisticRegression(C=2, class_weight='balanced', dual=False,\n",
      "          fit_intercept=True, intercept_scaling=1, max_iter=100,\n",
      "          multi_class='ovr', n_jobs=1, penalty='l1', random_state=None,\n",
      "          solver='liblinear', tol=0.0001, verbose=0, warm_start=False))])\n",
      "Saved model to path: model/pca_logr.sav\n"
     ]
    },
    {
     "data": {
      "image/png": "[encoded data removed]",
      "text/plain": [
       "<matplotlib.figure.Figure at 0x10eee91d0>"
      ]
     },
     "metadata": {},
     "output_type": "display_data"
    },
    {
     "name": "stdout",
     "output_type": "stream",
     "text": [
      ">>> best model results: sensitivity: 0.562\tspecificity: 0.783\tauc:0.7567934782608696\n",
      "Start training...\n",
      "Model Description:\n",
      " Pipeline(memory=None,\n",
      "     steps=[('pca', PCA(copy=True, iterated_power='auto', n_components=12, random_state=None,\n",
      "  svd_solver='auto', tol=0.0, whiten=False)), ('ranfor', RandomForestClassifier(bootstrap=True, class_weight={1: 4, 0: 1},\n",
      "            criterion='gini', max_depth=None, max_features='auto',\n",
      "            max_leaf_...imators=10, n_jobs=1, oob_score=False, random_state=None,\n",
      "            verbose=0, warm_start=False))])\n",
      "Saved model to path: model/pca_ranfor.sav\n"
     ]
    },
    {
     "data": {
      "image/png": "[encoded data removed]",
      "text/plain": [
       "<matplotlib.figure.Figure at 0x10f073ef0>"
      ]
     },
     "metadata": {},
     "output_type": "display_data"
    },
    {
     "name": "stdout",
     "output_type": "stream",
     "text": [
      ">>> best model results: sensitivity: 0.188\tspecificity: 0.935\tauc:0.640625\n"
     ]
    }
   ],
   "source": [
    "if __name__=='__main__':\n",
    "\n",
    "    # read data\n",
    "    data = pd.read_csv('data/processed_table_with_gavin_res.csv',sep='\\t')\n",
    "    mvid,train_gavin, test_gavin = read_data_set(data,BENCHMARK=True)\n",
    "    # print(data.head())\n",
    "    # raise NotImplementedError # check the dataset loaded\n",
    "    print('Dataset loaded.',mvid.train.values.shape)\n",
    "\n",
    "# ================model selection==========================================\n",
    "    # PCA + LogisticRegression\n",
    "    # Parameters\n",
    "    n_components = np.arange(2,mvid.train.num_features,10)\n",
    "    class_weight = ['balanced',{1:4,0:1}]\n",
    "    param_grid_logr = [{'pca__n_components':n_components,\n",
    "                   'logr__penalty':['l1'],\n",
    "                   'logr__C':[1,2,3,4,5],\n",
    "                   'logr__class_weight':class_weight}]\n",
    "    # pipeline\n",
    "    pipeline_logr = Pipeline(steps=[('pca',PCA()),\n",
    "                               ('logr',LogisticRegression())])\n",
    "    # save model\n",
    "    filename = os.path.join('model','pca_logr.sav')\n",
    "    # display results\n",
    "    classifier = display_res_gavin_and_best_model(param_grid_logr,\n",
    "                                                  pipeline_logr,\n",
    "                                                  mvid,\n",
    "                                                  filename,\n",
    "                                                  True)\n",
    "    # PCA + RandomForest\n",
    "    pipeline_ranfor = Pipeline(steps=[('pca',PCA()),\n",
    "                                      ('ranfor',RandomForestClassifier())])\n",
    "    n_estimators = [10,50,100]\n",
    "    param_grid_ranfor = [{'pca__n_components':n_components,\n",
    "                          'ranfor__n_estimators':n_estimators,\n",
    "                          'ranfor__class_weight':class_weight}]\n",
    "    filename = os.path.join('model','pca_ranfor.sav')\n",
    "    display_res_gavin_and_best_model(param_grid_ranfor,\n",
    "                                     pipeline_ranfor,\n",
    "                                     mvid,\n",
    "                                     filename,\n",
    "                                     DRAW=True)"
   ]
  },
  {
   "cell_type": "code",
   "execution_count": 6,
   "metadata": {},
   "outputs": [
    {
     "data": {
      "text/plain": [
       "array([ 0.11446475,  0.07636221,  0.05804041,  0.05523476,  0.05041665,\n",
       "        0.04338717,  0.03850625,  0.03478538,  0.03366905,  0.03032564,\n",
       "        0.0284446 ,  0.02510539,  0.02300675,  0.02243751,  0.02162231,\n",
       "        0.01746792,  0.01489254,  0.01397095,  0.01301013,  0.01202601,\n",
       "        0.01194007,  0.01149476,  0.01090866,  0.00987188,  0.00967678,\n",
       "        0.00926567,  0.0085979 ,  0.00838809,  0.00786042,  0.00756404,\n",
       "        0.00687107,  0.00653428,  0.00644125,  0.00610609,  0.00572965,\n",
       "        0.00560721,  0.00545719,  0.00524003,  0.00495702,  0.00483888,\n",
       "        0.00457575,  0.00451228,  0.00444919,  0.00420701,  0.00413303,\n",
       "        0.00405203,  0.00395763,  0.00370168,  0.00348123,  0.00336395,\n",
       "        0.00313611,  0.00295796])"
      ]
     },
     "execution_count": 6,
     "metadata": {},
     "output_type": "execute_result"
    }
   ],
   "source": [
    "classifier.best_estimator_.steps[0][1].explained_variance_ratio_"
   ]
  },
  {
   "cell_type": "code",
   "execution_count": 7,
   "metadata": {},
   "outputs": [
    {
     "data": {
      "text/plain": [
       "Index(['Length', 'GC', 'CpG', 'priPhCons', 'mamPhCons', 'verPhCons',\n",
       "       'priPhyloP', 'mamPhyloP', 'verPhyloP', 'GerpN',\n",
       "       ...\n",
       "       'nAA_S', 'nAA_T', 'nAA_V', 'nAA_W', 'nAA_Y', 'PolyPhenCat_benign',\n",
       "       'PolyPhenCat_possibly_damaging', 'PolyPhenCat_probably_damaging',\n",
       "       'SIFTcat_deleterious', 'SIFTcat_tolerated'],\n",
       "      dtype='object', length=180)"
      ]
     },
     "execution_count": 7,
     "metadata": {},
     "output_type": "execute_result"
    }
   ],
   "source": [
    "mvid.train.features"
   ]
  },
  {
   "cell_type": "code",
   "execution_count": 8,
   "metadata": {},
   "outputs": [],
   "source": [
    "# draw a overlapping bar graph for pandas dataframes\n",
    "def overlapped_bar(df, show=False, width=0.9, alpha=.3,\n",
    "                   title='', xlabel='', ylabel='', **plot_kwargs):\n",
    "    \"\"\"draw a stacked bar chart except bars on top of\n",
    "    each other with transparency\"\"\"\n",
    "    pl.figure(figsize=(20, 10))\n",
    "    xlabel = xlabel or df.index.name\n",
    "    N = len(df)\n",
    "    M = len(df.columns)\n",
    "    indices = np.arange(N)\n",
    "    colors = ['steelblue','firebrick',\n",
    "              'darksage','goldenrod','gray'] * int(M / 5. + 1)\n",
    "    for i, label, color in zip(range(M), df.columns, colors):\n",
    "        kwargs = plot_kwargs\n",
    "        kwargs.update({'color': color, 'label': label})\n",
    "        plt.bar(indices, df[label], width=width,\n",
    "                alpha=alpha if i else 1, **kwargs)\n",
    "        plt.xticks(indices + .5 * width,\n",
    "                   ['{}'.format(idx) for idx in df.index.values])\n",
    "    plt.legend()\n",
    "    plt.title(title)\n",
    "    plt.xlabel(xlabel)\n",
    "    if show:\n",
    "        plt.show()\n",
    "    return plt.gcf()"
   ]
  },
  {
   "cell_type": "code",
   "execution_count": 9,
   "metadata": {},
   "outputs": [],
   "source": [
    "def display_feature_importance(mean_x,x_cls,pca,classifier,LOG_TRANS=True,\n",
    "                       TABLE=False,DRAW=False,SAVE_DRAW=False):\n",
    "    '''\n",
    "    visualize feature importance of a model consists of\n",
    "    a feature extractor and a classifier by\n",
    "    drawing/returning the coefficients.\n",
    "    Input: mean_x, list of mean values of different classes (at least 2)\n",
    "           x_cls, list of names of the classes\n",
    "           pca, sklearn.Decomposition.PCA()\n",
    "           classifier, sklearn models with .coef_ attribute\n",
    "           LOG_TRANS, transform the importances in log-scale\n",
    "           TABLE, return the importance value of each features\n",
    "           DRAW, plot the importances\n",
    "           SAVE_DRAW, save the plot as 'importances.png'\n",
    "    Output: importances, list of importance values for each feature per class\n",
    "            plot of feature importances\n",
    "    '''\n",
    "    importances = []\n",
    "    length = pca.components_.shape[0]\n",
    "    if classifier.coef_ is not None:\n",
    "        importance = (pca.components_*classifier.coef_.reshape((length,1))).sum(axis=0)\n",
    "    elif classifier.feature_importance_:\n",
    "        importance = (pca.components_*classifier.feature_importances_.reashape((length,1))).sum(axis=0)\n",
    "    for i in range(len(mean_x)):\n",
    "        if LOG_TRANS:\n",
    "            importances.append(np.log(abs(importance*mean_x[i])))\n",
    "        else:\n",
    "            importances.append(abs(importance*mean_x[i]))\n",
    "    if DRAW:\n",
    "        df = pd.DataFrame(np.matrix(importances).T, columns=x_cls)\n",
    "#                   index=mean_x[0].keys())\n",
    "        overlapped_bar(df, show=True)\n",
    "        plt.show()\n",
    "        if SAVE_DRAW:\n",
    "            plt.savefig('importances.png')\n",
    "    if TABLE:\n",
    "        return importances\n"
   ]
  },
  {
   "cell_type": "code",
   "execution_count": 12,
   "metadata": {},
   "outputs": [],
   "source": [
    "mean_x_path = list(np.mean(mvid.test.values[mvid.test.labels==1],axis=0))\n",
    "mean_x_beni = list(np.mean(mvid.test.values[mvid.test.labels==0],axis=0))\n",
    "mean_x = [mean_x_path,mean_x_beni]\n",
    "x_cls = ['Pathogenic','Benign']\n",
    "model_pca = classifier.best_estimator_.steps[0][1]\n",
    "model_classifier = classifier.best_estimator_.steps[1][1]"
   ]
  },
  {
   "cell_type": "code",
   "execution_count": 13,
   "metadata": {},
   "outputs": [
    {
     "data": {
      "image/png": "[encoded data removed]",
      "text/plain": [
       "<matplotlib.figure.Figure at 0x10ee7d1d0>"
      ]
     },
     "metadata": {},
     "output_type": "display_data"
    },
    {
     "data": {
      "text/plain": [
       "<matplotlib.figure.Figure at 0x10f43b5f8>"
      ]
     },
     "metadata": {},
     "output_type": "display_data"
    }
   ],
   "source": [
    "importance_table = display_feature_importance(mean_x,\n",
    "                                              x_cls,\n",
    "                                              model_pca,\n",
    "                                              model_classifier,\n",
    "                                              LOG_TRANS=False,\n",
    "                                              DRAW=True,\n",
    "                                              TABLE=True)"
   ]
  },
  {
   "cell_type": "code",
   "execution_count": 14,
   "metadata": {
    "scrolled": true
   },
   "outputs": [],
   "source": [
    "diff = importance_table[0]-importance_table[1]\n",
    "sort_index = np.argsort(diff)"
   ]
  },
  {
   "cell_type": "code",
   "execution_count": 15,
   "metadata": {},
   "outputs": [
    {
     "data": {
      "text/plain": [
       "Index(['nAA_Y', 'Consequence_STOP_GAINED', 'SIFTcat_deleterious', 'nAA_K',\n",
       "       'oAA_D', 'isTv_False', 'ALT_AGAG', 'Type_INS', 'nAA_E', 'dnaRoll',\n",
       "       'REF_TG', 'isTv_True', 'oAA_C', 'Segway_R1', 'GerpRS', 'oAA_I', 'oAA_S',\n",
       "       'CpG', 'oAA_H', 'Segway_D'],\n",
       "      dtype='object')"
      ]
     },
     "execution_count": 15,
     "metadata": {},
     "output_type": "execute_result"
    }
   ],
   "source": [
    "data.columns[sort_index[:20]]"
   ]
  },
  {
   "cell_type": "code",
   "execution_count": 16,
   "metadata": {},
   "outputs": [
    {
     "data": {
      "text/plain": [
       "Index(['verPhCons', 'TFBSPeaks', 'mutIndex', 'PHRED', 'EncH3K4Me3', 'oAA_F',\n",
       "       'bStatistic', 'oAA_P', 'Segway_R2', 'REF_AT', 'GerpN',\n",
       "       'Consequence_SPLICE_SITE', 'oAA_Y', 'PolyPhenCat_probably_damaging',\n",
       "       'SIFTval', 'priPhyloP', 'minDistTSE', 'ALT_GT',\n",
       "       'PolyPhenCat_possibly_damaging', 'mamPhyloP'],\n",
       "      dtype='object')"
      ]
     },
     "execution_count": 16,
     "metadata": {},
     "output_type": "execute_result"
    }
   ],
   "source": [
    "data.columns[sort_index[-20:]]"
   ]
  },
  {
   "cell_type": "code",
   "execution_count": 23,
   "metadata": {},
   "outputs": [
    {
     "name": "stdout",
     "output_type": "stream",
     "text": [
      "['Length' 'GC' 'CpG' 'priPhCons' 'mamPhCons']\n",
      "['verPhCons' 'priPhyloP' 'mamPhyloP' 'verPhyloP' 'GerpN']\n",
      "['GerpS' 'GerpRS' 'GerpRSpval' 'bStatistic' 'mutIndex']\n",
      "['dnaHelT' 'dnaMGW' 'dnaProT' 'dnaRoll' 'fitCons']\n",
      "['cHmmTssA' 'cHmmTssAFlnk' 'cHmmTxFlnk' 'cHmmTx' 'cHmmTxWk']\n",
      "['cHmmEnhG' 'cHmmEnh' 'cHmmZnfRpts' 'cHmmHet' 'cHmmTssBiv']\n",
      "['cHmmBivFlnk' 'cHmmEnhBiv' 'cHmmReprPC' 'cHmmReprPCWk' 'cHmmQuies']\n",
      "['EncExp' 'EncH3K27Ac' 'EncH3K4Me1' 'EncH3K4Me3' 'EncNucleo']\n",
      "['EncOCC' 'EncOCCombPVal' 'EncOCDNasePVal' 'EncOCFairePVal'\n",
      " 'EncOCpolIIPVal']\n",
      "['EncOCctcfPVal' 'EncOCmycPVal' 'EncOCDNaseSig' 'EncOCFaireSig'\n",
      " 'EncOCpolIISig']\n",
      "['EncOCctcfSig' 'EncOCmycSig' 'tOverlapMotifs' 'motifDist' 'TFBS']\n",
      "['TFBSPeaks' 'TFBSPeaksMax' 'minDistTSS' 'minDistTSE' 'PolyPhenVal']\n",
      "['SIFTval' 'PHRED' 'REF_A' 'REF_AA' 'REF_AC']\n",
      "['REF_ACTTGC' 'REF_AG' 'REF_AT' 'REF_C' 'REF_CA']\n",
      "['REF_CG' 'REF_CGGG' 'REF_CT' 'REF_G' 'REF_GA']\n",
      "['REF_GAA' 'REF_T' 'REF_TA' 'REF_TACGGA' 'REF_TC']\n",
      "['REF_TCTGA' 'REF_TG' 'ALT_A' 'ALT_AG' 'ALT_AGAG']\n",
      "['ALT_C' 'ALT_CC' 'ALT_CCA' 'ALT_G' 'ALT_GC']\n",
      "['ALT_GCT' 'ALT_GT' 'ALT_T' 'ALT_TC' 'ALT_TGAG']\n",
      "['ALT_TTCTTTCTCATCTTTCAAGATGAGCTG' 'Type_DEL' 'Type_INS' 'Type_SNV'\n",
      " 'isTv_False']\n",
      "['isTv_True' 'Consequence_3PRIME_UTR' 'Consequence_CANONICAL_SPLICE'\n",
      " 'Consequence_FRAME_SHIFT' 'Consequence_INFRAME']\n",
      "['Consequence_INTRONIC' 'Consequence_NON_SYNONYMOUS'\n",
      " 'Consequence_REGULATORY' 'Consequence_SPLICE_SITE'\n",
      " 'Consequence_STOP_GAINED']\n",
      "['Consequence_SYNONYMOUS' 'Segway_C1' 'Segway_D' 'Segway_F0' 'Segway_F1']\n",
      "['Segway_GE0' 'Segway_H3K9me1' 'Segway_L0' 'Segway_L1' 'Segway_R0']\n",
      "['Segway_R1' 'Segway_R2' 'Segway_R3' 'Segway_R4' 'Segway_R5']\n",
      "['Segway_TF0' 'Segway_TF1' 'Segway_TF2' 'Domain_ncoils' 'Domain_ndomain']\n",
      "['Dst2SplType_ACCEPTOR' 'Dst2SplType_DONOR' 'oAA_-' 'oAA_A' 'oAA_AR']\n",
      "['oAA_C' 'oAA_D' 'oAA_E' 'oAA_F' 'oAA_G']\n",
      "['oAA_H' 'oAA_I' 'oAA_K' 'oAA_L' 'oAA_M']\n",
      "['oAA_N' 'oAA_P' 'oAA_Q' 'oAA_R' 'oAA_S']\n",
      "['oAA_T' 'oAA_V' 'oAA_W' 'oAA_Y' 'nAA_*']\n",
      "['nAA_A' 'nAA_C' 'nAA_D' 'nAA_E' 'nAA_F']\n",
      "['nAA_G' 'nAA_H' 'nAA_I' 'nAA_K' 'nAA_L']\n",
      "['nAA_M' 'nAA_N' 'nAA_P' 'nAA_Q' 'nAA_R']\n",
      "['nAA_S' 'nAA_T' 'nAA_V' 'nAA_W' 'nAA_Y']\n",
      "['PolyPhenCat_benign' 'PolyPhenCat_possibly_damaging'\n",
      " 'PolyPhenCat_probably_damaging' 'SIFTcat_deleterious' 'SIFTcat_tolerated']\n"
     ]
    }
   ],
   "source": [
    "for i in range(0,len(mvid.train.features),5):\n",
    "    print(mvid.train.features[i:i+5].values)"
   ]
  },
  {
   "cell_type": "code",
   "execution_count": 17,
   "metadata": {},
   "outputs": [],
   "source": [
    "# read data file\n",
    "datafolder = 'data/'\n",
    "datafile = 'myo5b_variants_patho_benign_cadd1.3fullannot_v1.xlsx'\n",
    "datatable = pd.ExcelFile(os.path.join(datafolder,datafile))\n",
    "datatable_pd = datatable.parse(datatable.sheet_names[0])"
   ]
  },
  {
   "cell_type": "code",
   "execution_count": 21,
   "metadata": {},
   "outputs": [],
   "source": [
    "new_data = datatable_pd[['INFO','RawScore']]\n",
    "train,test = train_test_split(new_data)"
   ]
  },
  {
   "cell_type": "code",
   "execution_count": 28,
   "metadata": {},
   "outputs": [
    {
     "data": {
      "text/plain": [
       "array([[48,  0],\n",
       "       [13,  1]])"
      ]
     },
     "execution_count": 28,
     "metadata": {},
     "output_type": "execute_result"
    }
   ],
   "source": [
    "logr = LogisticRegression()\n",
    "logr.fit(train['RawScore'].values.reshape(-1,1),train['INFO'])\n",
    "prediction = logr.predict(test['RawScore'].values.reshape(-1,1))\n",
    "confusion_matrix(test['INFO'],prediction)"
   ]
  },
  {
   "cell_type": "code",
   "execution_count": 29,
   "metadata": {},
   "outputs": [
    {
     "data": {
      "text/plain": [
       "array([[ 0.15198383]])"
      ]
     },
     "execution_count": 29,
     "metadata": {},
     "output_type": "execute_result"
    }
   ],
   "source": [
    "logr.coef_"
   ]
  },
  {
   "cell_type": "code",
   "execution_count": null,
   "metadata": {},
   "outputs": [],
   "source": []
  }
 ],
 "metadata": {
  "kernelspec": {
   "display_name": "py3",
   "language": "python",
   "name": "py3"
  },
  "language_info": {
   "codemirror_mode": {
    "name": "ipython",
    "version": 3
   },
   "file_extension": ".py",
   "mimetype": "text/x-python",
   "name": "python",
   "nbconvert_exporter": "python",
   "pygments_lexer": "ipython3",
   "version": "3.6.3"
  }
 },
 "nbformat": 4,
 "nbformat_minor": 2
}
