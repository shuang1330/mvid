{
 "cells": [
  {
   "cell_type": "code",
   "execution_count": 1,
   "metadata": {},
   "outputs": [],
   "source": [
    "import pandas as pd\n",
    "import os\n",
    "\n",
    "from sklearn.metrics import confusion_matrix"
   ]
  },
  {
   "cell_type": "code",
   "execution_count": 2,
   "metadata": {},
   "outputs": [],
   "source": [
    "datafolder = 'data'\n",
    "gavin_res_file = 'gavin_res.csv'\n",
    "anno_file = 'dummy_no_nan_data.csv'"
   ]
  },
  {
   "cell_type": "code",
   "execution_count": 3,
   "metadata": {},
   "outputs": [
    {
     "name": "stdout",
     "output_type": "stream",
     "text": [
      "(850, 993)\n",
      "(850, 31)\n"
     ]
    }
   ],
   "source": [
    "# read annotation\n",
    "anno_table = pd.read_csv(os.path.join(datafolder,anno_file),sep='\\t')\n",
    "print(anno_table.shape)\n",
    "# read gavin result\n",
    "gavin_res = pd.read_csv(os.path.join(datafolder,gavin_res_file),sep='\\t')\n",
    "print(gavin_res.shape)"
   ]
  },
  {
   "cell_type": "code",
   "execution_count": 4,
   "metadata": {},
   "outputs": [],
   "source": [
    "# add a new column in anno_file, representing gavin results\n",
    "def map_gavin_anno(genepos):\n",
    "    return gavin_res.Classification[gavin_res.POS==genepos].values[0]\n",
    "anno_table['gavin_res'] = anno_table['POS'].apply(map_gavin_anno)"
   ]
  },
  {
   "cell_type": "code",
   "execution_count": 13,
   "metadata": {},
   "outputs": [],
   "source": [
    "anno_table['gavin_res'] = anno_table['gavin_res'].replace('Benign',0)\n",
    "anno_table['gavin_res'] = anno_table['gavin_res'].replace('Pathogenic',1)"
   ]
  },
  {
   "cell_type": "code",
   "execution_count": 14,
   "metadata": {},
   "outputs": [
    {
     "data": {
      "text/plain": [
       "array([[ 31, 225],\n",
       "       [183, 411]])"
      ]
     },
     "execution_count": 14,
     "metadata": {},
     "output_type": "execute_result"
    }
   ],
   "source": [
    "confusion_matrix(anno_table['INFO'],anno_table['gavin_res'])"
   ]
  },
  {
   "cell_type": "code",
   "execution_count": 15,
   "metadata": {},
   "outputs": [],
   "source": [
    "anno_table.to_csv('data/dummy_no_nan_data_with_gavinres.tsv',index=False,sep='\\t')"
   ]
  },
  {
   "cell_type": "code",
   "execution_count": null,
   "metadata": {},
   "outputs": [],
   "source": []
  }
 ],
 "metadata": {
  "kernelspec": {
   "display_name": "py3",
   "language": "python",
   "name": "py3"
  },
  "language_info": {
   "codemirror_mode": {
    "name": "ipython",
    "version": 3
   },
   "file_extension": ".py",
   "mimetype": "text/x-python",
   "name": "python",
   "nbconvert_exporter": "python",
   "pygments_lexer": "ipython3",
   "version": "3.6.4"
  }
 },
 "nbformat": 4,
 "nbformat_minor": 2
}
