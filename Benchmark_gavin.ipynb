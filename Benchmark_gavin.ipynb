{
 "cells": [
  {
   "cell_type": "code",
   "execution_count": 37,
   "metadata": {
    "collapsed": true
   },
   "outputs": [],
   "source": [
    "import pandas as pd\n",
    "import os\n",
    "\n",
    "from sklearn.metrics import confusion_matrix"
   ]
  },
  {
   "cell_type": "code",
   "execution_count": 38,
   "metadata": {
    "collapsed": true
   },
   "outputs": [],
   "source": [
    "datafolder = 'data/'\n",
    "gavin_res_file = 'gavin_res.csv'\n",
    "anno_file = 'myo5b_variants_patho_benign_cadd1.3fullannot_v1.xlsx'"
   ]
  },
  {
   "cell_type": "code",
   "execution_count": 39,
   "metadata": {},
   "outputs": [
    {
     "name": "stdout",
     "output_type": "stream",
     "text": [
      "(248, 117)\n",
      "(248, 31)\n"
     ]
    }
   ],
   "source": [
    "# read annotation\n",
    "anno = pd.ExcelFile(os.path.join(datafolder,anno_file))\n",
    "anno_table = anno.parse(anno.sheet_names[0])\n",
    "print(anno_table.shape)\n",
    "# read gavin result\n",
    "gavin_res = pd.read_csv(os.path.join(datafolder,gavin_res_file),sep='\\t')\n",
    "print(gavin_res.shape)"
   ]
  },
  {
   "cell_type": "code",
   "execution_count": 40,
   "metadata": {},
   "outputs": [],
   "source": [
    "# add a new column in anno_file, representing gavin results\n",
    "def map_gavin_anno(genepos):\n",
    "    return gavin_res.Classification[gavin_res.POS==genepos].values[0]\n",
    "anno_table['gavin_res'] = anno_table['POS'].apply(map_gavin_anno)"
   ]
  },
  {
   "cell_type": "code",
   "execution_count": 41,
   "metadata": {},
   "outputs": [
    {
     "data": {
      "text/plain": [
       "array([[ 93, 102],\n",
       "       [  5,  48]])"
      ]
     },
     "execution_count": 41,
     "metadata": {},
     "output_type": "execute_result"
    }
   ],
   "source": [
    "confusion_matrix(anno_table['INFO'],anno_table['gavin_res'])"
   ]
  },
  {
   "cell_type": "code",
   "execution_count": null,
   "metadata": {
    "collapsed": true
   },
   "outputs": [],
   "source": []
  }
 ],
 "metadata": {
  "kernelspec": {
   "display_name": "py3",
   "language": "python",
   "name": "py3"
  },
  "language_info": {
   "codemirror_mode": {
    "name": "ipython",
    "version": 3
   },
   "file_extension": ".py",
   "mimetype": "text/x-python",
   "name": "python",
   "nbconvert_exporter": "python",
   "pygments_lexer": "ipython3",
   "version": "3.6.3"
  }
 },
 "nbformat": 4,
 "nbformat_minor": 2
}
