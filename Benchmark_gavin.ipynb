{
 "cells": [
  {
   "cell_type": "code",
   "execution_count": 6,
   "metadata": {},
   "outputs": [],
   "source": [
    "import pandas as pd\n",
    "import os\n",
    "\n",
    "from sklearn.metrics import confusion_matrix"
   ]
  },
  {
   "cell_type": "code",
   "execution_count": 11,
   "metadata": {},
   "outputs": [],
   "source": [
    "datafolder = 'data/'\n",
    "gavin_res_file = 'gavin_res.csv'\n",
    "anno_file = 'myo5b_variants_patho_benign_cadd1.3fullannot_v1.xlsx'\n",
    "processed_table = 'dummy_no_nan_data_withpos.csv'"
   ]
  },
  {
   "cell_type": "code",
   "execution_count": 12,
   "metadata": {},
   "outputs": [
    {
     "name": "stdout",
     "output_type": "stream",
     "text": [
      "(248, 117)\n",
      "(248, 31)\n",
      "(248, 183)\n"
     ]
    }
   ],
   "source": [
    "# read annotation\n",
    "anno = pd.ExcelFile(os.path.join(datafolder,anno_file))\n",
    "anno_table = anno.parse(anno.sheet_names[0])\n",
    "print(anno_table.shape)\n",
    "# read gavin result\n",
    "gavin_res = pd.read_csv(os.path.join(datafolder,gavin_res_file),sep='\\t')\n",
    "print(gavin_res.shape)\n",
    "# read processed data\n",
    "processed_table = pd.read_csv(os.path.join(datafolder,processed_table),sep='\\t')\n",
    "print(processed_table.shape)"
   ]
  },
  {
   "cell_type": "code",
   "execution_count": 14,
   "metadata": {
    "scrolled": true
   },
   "outputs": [
    {
     "data": {
      "text/plain": [
       "1    Pathogenic\n",
       "Name: Classification, dtype: object"
      ]
     },
     "execution_count": 14,
     "metadata": {},
     "output_type": "execute_result"
    }
   ],
   "source": [
    "gavin_res.Classification[gavin_res.POS==processed_table.POS[1]]"
   ]
  },
  {
   "cell_type": "code",
   "execution_count": 15,
   "metadata": {},
   "outputs": [],
   "source": [
    "# add a new column in anno_file, representing gavin results\n",
    "def map_gavin_anno(genepos):\n",
    "    return gavin_res.Classification[gavin_res.POS==genepos].values[0]\n",
    "anno_table['gavin_res'] = anno_table['POS'].apply(map_gavin_anno)\n",
    "processed_table['gavin_res'] = processed_table['POS'].apply(map_gavin_anno)\n",
    "processed_table = processed_table.drop(['POS'], axis=1)"
   ]
  },
  {
   "cell_type": "code",
   "execution_count": 28,
   "metadata": {},
   "outputs": [],
   "source": [
    "processed_table.to_csv('data/processed_table_with_gavin_res_test.csv',sep='\\t',index=False)"
   ]
  },
  {
   "cell_type": "code",
   "execution_count": 41,
   "metadata": {},
   "outputs": [
    {
     "data": {
      "text/plain": [
       "array([[ 93, 102],\n",
       "       [  5,  48]])"
      ]
     },
     "execution_count": 41,
     "metadata": {},
     "output_type": "execute_result"
    }
   ],
   "source": [
    "confusion_matrix(anno_table['INFO'],anno_table['gavin_res'])"
   ]
  },
  {
   "cell_type": "code",
   "execution_count": 16,
   "metadata": {},
   "outputs": [
    {
     "data": {
      "text/html": [
       "<div>\n",
       "<style scoped>\n",
       "    .dataframe tbody tr th:only-of-type {\n",
       "        vertical-align: middle;\n",
       "    }\n",
       "\n",
       "    .dataframe tbody tr th {\n",
       "        vertical-align: top;\n",
       "    }\n",
       "\n",
       "    .dataframe thead th {\n",
       "        text-align: right;\n",
       "    }\n",
       "</style>\n",
       "<table border=\"1\" class=\"dataframe\">\n",
       "  <thead>\n",
       "    <tr style=\"text-align: right;\">\n",
       "      <th></th>\n",
       "      <th>INFO</th>\n",
       "      <th>Length</th>\n",
       "      <th>GC</th>\n",
       "      <th>CpG</th>\n",
       "      <th>priPhCons</th>\n",
       "      <th>mamPhCons</th>\n",
       "      <th>verPhCons</th>\n",
       "      <th>priPhyloP</th>\n",
       "      <th>mamPhyloP</th>\n",
       "      <th>verPhyloP</th>\n",
       "      <th>...</th>\n",
       "      <th>nAA_T</th>\n",
       "      <th>nAA_V</th>\n",
       "      <th>nAA_W</th>\n",
       "      <th>nAA_Y</th>\n",
       "      <th>PolyPhenCat_benign</th>\n",
       "      <th>PolyPhenCat_possibly_damaging</th>\n",
       "      <th>PolyPhenCat_probably_damaging</th>\n",
       "      <th>SIFTcat_deleterious</th>\n",
       "      <th>SIFTcat_tolerated</th>\n",
       "      <th>gavin_res</th>\n",
       "    </tr>\n",
       "  </thead>\n",
       "  <tbody>\n",
       "    <tr>\n",
       "      <th>0</th>\n",
       "      <td>1.0</td>\n",
       "      <td>0.000000</td>\n",
       "      <td>0.181818</td>\n",
       "      <td>0.000000</td>\n",
       "      <td>0.159319</td>\n",
       "      <td>0.001</td>\n",
       "      <td>0.002</td>\n",
       "      <td>0.704640</td>\n",
       "      <td>0.640741</td>\n",
       "      <td>0.487571</td>\n",
       "      <td>...</td>\n",
       "      <td>0.0</td>\n",
       "      <td>0.0</td>\n",
       "      <td>0.0</td>\n",
       "      <td>0.0</td>\n",
       "      <td>0.0</td>\n",
       "      <td>0.0</td>\n",
       "      <td>0.0</td>\n",
       "      <td>0.0</td>\n",
       "      <td>0.0</td>\n",
       "      <td>Benign</td>\n",
       "    </tr>\n",
       "    <tr>\n",
       "      <th>1</th>\n",
       "      <td>1.0</td>\n",
       "      <td>0.000000</td>\n",
       "      <td>0.072727</td>\n",
       "      <td>0.137931</td>\n",
       "      <td>0.909820</td>\n",
       "      <td>1.000</td>\n",
       "      <td>1.000</td>\n",
       "      <td>0.998333</td>\n",
       "      <td>0.974681</td>\n",
       "      <td>0.959785</td>\n",
       "      <td>...</td>\n",
       "      <td>0.0</td>\n",
       "      <td>0.0</td>\n",
       "      <td>0.0</td>\n",
       "      <td>0.0</td>\n",
       "      <td>0.0</td>\n",
       "      <td>0.0</td>\n",
       "      <td>0.0</td>\n",
       "      <td>0.0</td>\n",
       "      <td>0.0</td>\n",
       "      <td>Pathogenic</td>\n",
       "    </tr>\n",
       "    <tr>\n",
       "      <th>2</th>\n",
       "      <td>1.0</td>\n",
       "      <td>0.000000</td>\n",
       "      <td>0.072727</td>\n",
       "      <td>0.137931</td>\n",
       "      <td>0.985972</td>\n",
       "      <td>1.000</td>\n",
       "      <td>0.997</td>\n",
       "      <td>0.998333</td>\n",
       "      <td>0.974681</td>\n",
       "      <td>0.509454</td>\n",
       "      <td>...</td>\n",
       "      <td>0.0</td>\n",
       "      <td>0.0</td>\n",
       "      <td>0.0</td>\n",
       "      <td>0.0</td>\n",
       "      <td>0.0</td>\n",
       "      <td>0.0</td>\n",
       "      <td>0.0</td>\n",
       "      <td>0.0</td>\n",
       "      <td>0.0</td>\n",
       "      <td>Pathogenic</td>\n",
       "    </tr>\n",
       "    <tr>\n",
       "      <th>3</th>\n",
       "      <td>1.0</td>\n",
       "      <td>0.000000</td>\n",
       "      <td>0.418182</td>\n",
       "      <td>0.241379</td>\n",
       "      <td>0.585170</td>\n",
       "      <td>0.994</td>\n",
       "      <td>1.000</td>\n",
       "      <td>1.000000</td>\n",
       "      <td>0.915439</td>\n",
       "      <td>0.928496</td>\n",
       "      <td>...</td>\n",
       "      <td>0.0</td>\n",
       "      <td>0.0</td>\n",
       "      <td>0.0</td>\n",
       "      <td>0.0</td>\n",
       "      <td>0.0</td>\n",
       "      <td>0.0</td>\n",
       "      <td>0.0</td>\n",
       "      <td>0.0</td>\n",
       "      <td>0.0</td>\n",
       "      <td>Pathogenic</td>\n",
       "    </tr>\n",
       "    <tr>\n",
       "      <th>4</th>\n",
       "      <td>1.0</td>\n",
       "      <td>0.076923</td>\n",
       "      <td>0.381818</td>\n",
       "      <td>0.172414</td>\n",
       "      <td>0.994990</td>\n",
       "      <td>1.000</td>\n",
       "      <td>1.000</td>\n",
       "      <td>1.000000</td>\n",
       "      <td>0.915439</td>\n",
       "      <td>0.928496</td>\n",
       "      <td>...</td>\n",
       "      <td>0.0</td>\n",
       "      <td>0.0</td>\n",
       "      <td>0.0</td>\n",
       "      <td>0.0</td>\n",
       "      <td>0.0</td>\n",
       "      <td>0.0</td>\n",
       "      <td>0.0</td>\n",
       "      <td>0.0</td>\n",
       "      <td>0.0</td>\n",
       "      <td>Pathogenic</td>\n",
       "    </tr>\n",
       "  </tbody>\n",
       "</table>\n",
       "<p>5 rows × 183 columns</p>\n",
       "</div>"
      ],
      "text/plain": [
       "   INFO    Length        GC       CpG  priPhCons  mamPhCons  verPhCons  \\\n",
       "0   1.0  0.000000  0.181818  0.000000   0.159319      0.001      0.002   \n",
       "1   1.0  0.000000  0.072727  0.137931   0.909820      1.000      1.000   \n",
       "2   1.0  0.000000  0.072727  0.137931   0.985972      1.000      0.997   \n",
       "3   1.0  0.000000  0.418182  0.241379   0.585170      0.994      1.000   \n",
       "4   1.0  0.076923  0.381818  0.172414   0.994990      1.000      1.000   \n",
       "\n",
       "   priPhyloP  mamPhyloP  verPhyloP     ...      nAA_T  nAA_V  nAA_W  nAA_Y  \\\n",
       "0   0.704640   0.640741   0.487571     ...        0.0    0.0    0.0    0.0   \n",
       "1   0.998333   0.974681   0.959785     ...        0.0    0.0    0.0    0.0   \n",
       "2   0.998333   0.974681   0.509454     ...        0.0    0.0    0.0    0.0   \n",
       "3   1.000000   0.915439   0.928496     ...        0.0    0.0    0.0    0.0   \n",
       "4   1.000000   0.915439   0.928496     ...        0.0    0.0    0.0    0.0   \n",
       "\n",
       "   PolyPhenCat_benign  PolyPhenCat_possibly_damaging  \\\n",
       "0                 0.0                            0.0   \n",
       "1                 0.0                            0.0   \n",
       "2                 0.0                            0.0   \n",
       "3                 0.0                            0.0   \n",
       "4                 0.0                            0.0   \n",
       "\n",
       "   PolyPhenCat_probably_damaging  SIFTcat_deleterious  SIFTcat_tolerated  \\\n",
       "0                            0.0                  0.0                0.0   \n",
       "1                            0.0                  0.0                0.0   \n",
       "2                            0.0                  0.0                0.0   \n",
       "3                            0.0                  0.0                0.0   \n",
       "4                            0.0                  0.0                0.0   \n",
       "\n",
       "    gavin_res  \n",
       "0      Benign  \n",
       "1  Pathogenic  \n",
       "2  Pathogenic  \n",
       "3  Pathogenic  \n",
       "4  Pathogenic  \n",
       "\n",
       "[5 rows x 183 columns]"
      ]
     },
     "execution_count": 16,
     "metadata": {},
     "output_type": "execute_result"
    }
   ],
   "source": [
    "processed_table.head()"
   ]
  },
  {
   "cell_type": "code",
   "execution_count": null,
   "metadata": {},
   "outputs": [],
   "source": []
  }
 ],
 "metadata": {
  "kernelspec": {
   "display_name": "py3",
   "language": "python",
   "name": "py3"
  },
  "language_info": {
   "codemirror_mode": {
    "name": "ipython",
    "version": 3
   },
   "file_extension": ".py",
   "mimetype": "text/x-python",
   "name": "python",
   "nbconvert_exporter": "python",
   "pygments_lexer": "ipython3",
   "version": "3.6.3"
  }
 },
 "nbformat": 4,
 "nbformat_minor": 2
}
