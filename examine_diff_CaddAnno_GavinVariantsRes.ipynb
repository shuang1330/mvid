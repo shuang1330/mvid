{
 "cells": [
  {
   "cell_type": "code",
   "execution_count": 1,
   "metadata": {},
   "outputs": [],
   "source": [
    "import pandas as pd\n",
    "import os\n",
    "import numpy as np\n",
    "\n",
    "\n",
    "import matplotlib.pyplot as plt\n",
    "% matplotlib inline"
   ]
  },
  {
   "cell_type": "code",
   "execution_count": 2,
   "metadata": {},
   "outputs": [],
   "source": [
    "# loading the \n",
    "dtype = {'#Chrom':np.object,\n",
    "         'motifEName':np.object,\n",
    "         'motifEHIPos':np.object,\n",
    "         'PolyPhenCat':np.object,\n",
    "         'SIFTcat':np.object,\n",
    "         'isDerived':np.object}\n",
    "file_path = os.path.join('data','full_annotation.tsv')\n",
    "cadd_anno = pd.read_csv(file_path,sep='\\t',dtype=dtype)"
   ]
  },
  {
   "cell_type": "code",
   "execution_count": 3,
   "metadata": {},
   "outputs": [],
   "source": [
    "# loading the annotation from gavin\n",
    "file_path = os.path.join('data','calibrationvariants_r0.4.tsv')\n",
    "gavin_anno = pd.read_csv(file_path,sep='\\t')"
   ]
  },
  {
   "cell_type": "code",
   "execution_count": 4,
   "metadata": {},
   "outputs": [
    {
     "data": {
      "text/html": [
       "<div>\n",
       "<style scoped>\n",
       "    .dataframe tbody tr th:only-of-type {\n",
       "        vertical-align: middle;\n",
       "    }\n",
       "\n",
       "    .dataframe tbody tr th {\n",
       "        vertical-align: top;\n",
       "    }\n",
       "\n",
       "    .dataframe thead th {\n",
       "        text-align: right;\n",
       "    }\n",
       "</style>\n",
       "<table border=\"1\" class=\"dataframe\">\n",
       "  <thead>\n",
       "    <tr style=\"text-align: right;\">\n",
       "      <th></th>\n",
       "      <th>gene</th>\n",
       "      <th>chr</th>\n",
       "      <th>pos</th>\n",
       "      <th>ref</th>\n",
       "      <th>alt</th>\n",
       "      <th>group</th>\n",
       "      <th>effect</th>\n",
       "      <th>impact</th>\n",
       "      <th>cadd</th>\n",
       "    </tr>\n",
       "  </thead>\n",
       "  <tbody>\n",
       "    <tr>\n",
       "      <th>0</th>\n",
       "      <td>NUP107</td>\n",
       "      <td>12</td>\n",
       "      <td>69107589</td>\n",
       "      <td>G</td>\n",
       "      <td>A</td>\n",
       "      <td>PATHOGENIC</td>\n",
       "      <td>splice_donor_variant</td>\n",
       "      <td>HIGH</td>\n",
       "      <td>24.70</td>\n",
       "    </tr>\n",
       "    <tr>\n",
       "      <th>1</th>\n",
       "      <td>NUP107</td>\n",
       "      <td>12</td>\n",
       "      <td>69090619</td>\n",
       "      <td>G</td>\n",
       "      <td>T</td>\n",
       "      <td>PATHOGENIC</td>\n",
       "      <td>missense_variant</td>\n",
       "      <td>MODERATE</td>\n",
       "      <td>28.10</td>\n",
       "    </tr>\n",
       "    <tr>\n",
       "      <th>2</th>\n",
       "      <td>NUP107</td>\n",
       "      <td>12</td>\n",
       "      <td>69084526</td>\n",
       "      <td>G</td>\n",
       "      <td>A</td>\n",
       "      <td>PATHOGENIC</td>\n",
       "      <td>missense_variant</td>\n",
       "      <td>MODERATE</td>\n",
       "      <td>19.16</td>\n",
       "    </tr>\n",
       "    <tr>\n",
       "      <th>3</th>\n",
       "      <td>NUP107</td>\n",
       "      <td>12</td>\n",
       "      <td>69129114</td>\n",
       "      <td>A</td>\n",
       "      <td>C</td>\n",
       "      <td>PATHOGENIC</td>\n",
       "      <td>missense_variant</td>\n",
       "      <td>MODERATE</td>\n",
       "      <td>31.00</td>\n",
       "    </tr>\n",
       "    <tr>\n",
       "      <th>4</th>\n",
       "      <td>NUP107</td>\n",
       "      <td>12</td>\n",
       "      <td>69109513</td>\n",
       "      <td>CAGAAG</td>\n",
       "      <td>C</td>\n",
       "      <td>PATHOGENIC</td>\n",
       "      <td>frameshift_variant</td>\n",
       "      <td>HIGH</td>\n",
       "      <td>35.00</td>\n",
       "    </tr>\n",
       "  </tbody>\n",
       "</table>\n",
       "</div>"
      ],
      "text/plain": [
       "     gene chr       pos     ref alt       group                effect  \\\n",
       "0  NUP107  12  69107589       G   A  PATHOGENIC  splice_donor_variant   \n",
       "1  NUP107  12  69090619       G   T  PATHOGENIC      missense_variant   \n",
       "2  NUP107  12  69084526       G   A  PATHOGENIC      missense_variant   \n",
       "3  NUP107  12  69129114       A   C  PATHOGENIC      missense_variant   \n",
       "4  NUP107  12  69109513  CAGAAG   C  PATHOGENIC    frameshift_variant   \n",
       "\n",
       "     impact   cadd  \n",
       "0      HIGH  24.70  \n",
       "1  MODERATE  28.10  \n",
       "2  MODERATE  19.16  \n",
       "3  MODERATE  31.00  \n",
       "4      HIGH  35.00  "
      ]
     },
     "execution_count": 4,
     "metadata": {},
     "output_type": "execute_result"
    }
   ],
   "source": [
    "gavin_anno.head()"
   ]
  },
  {
   "cell_type": "code",
   "execution_count": 17,
   "metadata": {},
   "outputs": [
    {
     "data": {
      "text/plain": [
       "array(['NUP107', 'IFT172', 'SPINT2', ..., 'PIKFYVE', 'BAX', 'HCN1'], dtype=object)"
      ]
     },
     "execution_count": 17,
     "metadata": {},
     "output_type": "execute_result"
    }
   ],
   "source": [
    "gavin_anno['gene'].unique()"
   ]
  },
  {
   "cell_type": "code",
   "execution_count": 18,
   "metadata": {},
   "outputs": [
    {
     "data": {
      "text/plain": [
       "array(['ENSG00000176022', 'ENSG00000078808', nan, ..., 'ENSG00000185010',\n",
       "       'ENSG00000203870', 'ENSG00000237859'], dtype=object)"
      ]
     },
     "execution_count": 18,
     "metadata": {},
     "output_type": "execute_result"
    }
   ],
   "source": [
    "cadd_anno.GeneID.unique()"
   ]
  },
  {
   "cell_type": "code",
   "execution_count": 5,
   "metadata": {},
   "outputs": [
    {
     "data": {
      "text/html": [
       "<div>\n",
       "<style scoped>\n",
       "    .dataframe tbody tr th:only-of-type {\n",
       "        vertical-align: middle;\n",
       "    }\n",
       "\n",
       "    .dataframe tbody tr th {\n",
       "        vertical-align: top;\n",
       "    }\n",
       "\n",
       "    .dataframe thead th {\n",
       "        text-align: right;\n",
       "    }\n",
       "</style>\n",
       "<table border=\"1\" class=\"dataframe\">\n",
       "  <thead>\n",
       "    <tr style=\"text-align: right;\">\n",
       "      <th></th>\n",
       "      <th>#Chrom</th>\n",
       "      <th>Pos</th>\n",
       "      <th>Ref</th>\n",
       "      <th>Anc</th>\n",
       "      <th>Alt</th>\n",
       "      <th>Type</th>\n",
       "      <th>Length</th>\n",
       "      <th>isTv</th>\n",
       "      <th>isDerived</th>\n",
       "      <th>AnnoType</th>\n",
       "      <th>...</th>\n",
       "      <th>Intron</th>\n",
       "      <th>oAA</th>\n",
       "      <th>nAA</th>\n",
       "      <th>Grantham</th>\n",
       "      <th>PolyPhenCat</th>\n",
       "      <th>PolyPhenVal</th>\n",
       "      <th>SIFTcat</th>\n",
       "      <th>SIFTval</th>\n",
       "      <th>RawScore</th>\n",
       "      <th>PHRED</th>\n",
       "    </tr>\n",
       "  </thead>\n",
       "  <tbody>\n",
       "    <tr>\n",
       "      <th>0</th>\n",
       "      <td>1</td>\n",
       "      <td>1167659</td>\n",
       "      <td>A</td>\n",
       "      <td>A</td>\n",
       "      <td>G</td>\n",
       "      <td>SNV</td>\n",
       "      <td>0</td>\n",
       "      <td>False</td>\n",
       "      <td>TRUE</td>\n",
       "      <td>CodingTranscript</td>\n",
       "      <td>...</td>\n",
       "      <td>NaN</td>\n",
       "      <td>M</td>\n",
       "      <td>V</td>\n",
       "      <td>21.0</td>\n",
       "      <td>NaN</td>\n",
       "      <td>NaN</td>\n",
       "      <td>deleterious</td>\n",
       "      <td>0.00</td>\n",
       "      <td>1.106787</td>\n",
       "      <td>11.25</td>\n",
       "    </tr>\n",
       "    <tr>\n",
       "      <th>1</th>\n",
       "      <td>1</td>\n",
       "      <td>1167674</td>\n",
       "      <td>C</td>\n",
       "      <td>C</td>\n",
       "      <td>T</td>\n",
       "      <td>SNV</td>\n",
       "      <td>0</td>\n",
       "      <td>False</td>\n",
       "      <td>TRUE</td>\n",
       "      <td>CodingTranscript</td>\n",
       "      <td>...</td>\n",
       "      <td>NaN</td>\n",
       "      <td>R</td>\n",
       "      <td>W</td>\n",
       "      <td>101.0</td>\n",
       "      <td>NaN</td>\n",
       "      <td>NaN</td>\n",
       "      <td>deleterious</td>\n",
       "      <td>0.03</td>\n",
       "      <td>4.482313</td>\n",
       "      <td>24.20</td>\n",
       "    </tr>\n",
       "    <tr>\n",
       "      <th>2</th>\n",
       "      <td>1</td>\n",
       "      <td>1167680</td>\n",
       "      <td>TGGC</td>\n",
       "      <td>TGGC</td>\n",
       "      <td>T</td>\n",
       "      <td>DEL</td>\n",
       "      <td>3</td>\n",
       "      <td>NaN</td>\n",
       "      <td>TRUE</td>\n",
       "      <td>CodingTranscript</td>\n",
       "      <td>...</td>\n",
       "      <td>NaN</td>\n",
       "      <td>R</td>\n",
       "      <td>-</td>\n",
       "      <td>NaN</td>\n",
       "      <td>NaN</td>\n",
       "      <td>NaN</td>\n",
       "      <td>NaN</td>\n",
       "      <td>NaN</td>\n",
       "      <td>1.924056</td>\n",
       "      <td>15.74</td>\n",
       "    </tr>\n",
       "    <tr>\n",
       "      <th>3</th>\n",
       "      <td>1</td>\n",
       "      <td>1167680</td>\n",
       "      <td>TGGC</td>\n",
       "      <td>TGGC</td>\n",
       "      <td>T</td>\n",
       "      <td>DEL</td>\n",
       "      <td>3</td>\n",
       "      <td>NaN</td>\n",
       "      <td>TRUE</td>\n",
       "      <td>Intergenic</td>\n",
       "      <td>...</td>\n",
       "      <td>NaN</td>\n",
       "      <td>NaN</td>\n",
       "      <td>NaN</td>\n",
       "      <td>NaN</td>\n",
       "      <td>NaN</td>\n",
       "      <td>NaN</td>\n",
       "      <td>NaN</td>\n",
       "      <td>NaN</td>\n",
       "      <td>1.924056</td>\n",
       "      <td>15.74</td>\n",
       "    </tr>\n",
       "    <tr>\n",
       "      <th>4</th>\n",
       "      <td>1</td>\n",
       "      <td>1167680</td>\n",
       "      <td>TGGC</td>\n",
       "      <td>TGGC</td>\n",
       "      <td>T</td>\n",
       "      <td>DEL</td>\n",
       "      <td>3</td>\n",
       "      <td>NaN</td>\n",
       "      <td>TRUE</td>\n",
       "      <td>RegulatoryFeature</td>\n",
       "      <td>...</td>\n",
       "      <td>NaN</td>\n",
       "      <td>NaN</td>\n",
       "      <td>NaN</td>\n",
       "      <td>NaN</td>\n",
       "      <td>NaN</td>\n",
       "      <td>NaN</td>\n",
       "      <td>NaN</td>\n",
       "      <td>NaN</td>\n",
       "      <td>1.924056</td>\n",
       "      <td>15.74</td>\n",
       "    </tr>\n",
       "  </tbody>\n",
       "</table>\n",
       "<p>5 rows × 116 columns</p>\n",
       "</div>"
      ],
      "text/plain": [
       "  #Chrom      Pos   Ref   Anc Alt Type  Length   isTv isDerived  \\\n",
       "0      1  1167659     A     A   G  SNV       0  False      TRUE   \n",
       "1      1  1167674     C     C   T  SNV       0  False      TRUE   \n",
       "2      1  1167680  TGGC  TGGC   T  DEL       3    NaN      TRUE   \n",
       "3      1  1167680  TGGC  TGGC   T  DEL       3    NaN      TRUE   \n",
       "4      1  1167680  TGGC  TGGC   T  DEL       3    NaN      TRUE   \n",
       "\n",
       "            AnnoType  ...   Intron  oAA  nAA  Grantham  PolyPhenCat  \\\n",
       "0   CodingTranscript  ...      NaN    M    V      21.0          NaN   \n",
       "1   CodingTranscript  ...      NaN    R    W     101.0          NaN   \n",
       "2   CodingTranscript  ...      NaN    R    -       NaN          NaN   \n",
       "3         Intergenic  ...      NaN  NaN  NaN       NaN          NaN   \n",
       "4  RegulatoryFeature  ...      NaN  NaN  NaN       NaN          NaN   \n",
       "\n",
       "   PolyPhenVal      SIFTcat  SIFTval  RawScore  PHRED  \n",
       "0          NaN  deleterious     0.00  1.106787  11.25  \n",
       "1          NaN  deleterious     0.03  4.482313  24.20  \n",
       "2          NaN          NaN      NaN  1.924056  15.74  \n",
       "3          NaN          NaN      NaN  1.924056  15.74  \n",
       "4          NaN          NaN      NaN  1.924056  15.74  \n",
       "\n",
       "[5 rows x 116 columns]"
      ]
     },
     "execution_count": 5,
     "metadata": {},
     "output_type": "execute_result"
    }
   ],
   "source": [
    "cadd_anno.head()"
   ]
  },
  {
   "cell_type": "code",
   "execution_count": 12,
   "metadata": {},
   "outputs": [],
   "source": [
    "# read the subset myo5b dataset\n",
    "file_path = os.path.join('data','myo5b_variants_patho_benign_cadd1.3fullannot_v1.xlsx')\n",
    "myo5b_anno = pd.ExcelFile(file_path)\n",
    "myo5b_anno = myo5b_anno.parse(myo5b_anno.sheet_names[0])"
   ]
  },
  {
   "cell_type": "code",
   "execution_count": 23,
   "metadata": {},
   "outputs": [
    {
     "data": {
      "text/html": [
       "<div>\n",
       "<style scoped>\n",
       "    .dataframe tbody tr th:only-of-type {\n",
       "        vertical-align: middle;\n",
       "    }\n",
       "\n",
       "    .dataframe tbody tr th {\n",
       "        vertical-align: top;\n",
       "    }\n",
       "\n",
       "    .dataframe thead th {\n",
       "        text-align: right;\n",
       "    }\n",
       "</style>\n",
       "<table border=\"1\" class=\"dataframe\">\n",
       "  <thead>\n",
       "    <tr style=\"text-align: right;\">\n",
       "      <th></th>\n",
       "      <th>CHROM</th>\n",
       "      <th>POS</th>\n",
       "      <th>ID</th>\n",
       "      <th>REF</th>\n",
       "      <th>ALT</th>\n",
       "      <th>INFO</th>\n",
       "      <th>Type</th>\n",
       "      <th>Length</th>\n",
       "      <th>isTv</th>\n",
       "      <th>isDerived</th>\n",
       "      <th>...</th>\n",
       "      <th>Intron</th>\n",
       "      <th>oAA</th>\n",
       "      <th>nAA</th>\n",
       "      <th>Grantham</th>\n",
       "      <th>PolyPhenCat</th>\n",
       "      <th>PolyPhenVal</th>\n",
       "      <th>SIFTcat</th>\n",
       "      <th>SIFTval</th>\n",
       "      <th>RawScore</th>\n",
       "      <th>PHRED</th>\n",
       "    </tr>\n",
       "  </thead>\n",
       "  <tbody>\n",
       "    <tr>\n",
       "      <th>0</th>\n",
       "      <td>18</td>\n",
       "      <td>47352774</td>\n",
       "      <td>MYO5B:c.5616-2A&gt;G</td>\n",
       "      <td>T</td>\n",
       "      <td>C</td>\n",
       "      <td>Pathogenic</td>\n",
       "      <td>SNV</td>\n",
       "      <td>0</td>\n",
       "      <td>False</td>\n",
       "      <td>True</td>\n",
       "      <td>...</td>\n",
       "      <td>NaN</td>\n",
       "      <td>NaN</td>\n",
       "      <td>NaN</td>\n",
       "      <td>NaN</td>\n",
       "      <td>NaN</td>\n",
       "      <td>NaN</td>\n",
       "      <td>NaN</td>\n",
       "      <td>NaN</td>\n",
       "      <td>0.334537</td>\n",
       "      <td>6.023</td>\n",
       "    </tr>\n",
       "    <tr>\n",
       "      <th>1</th>\n",
       "      <td>18</td>\n",
       "      <td>47361716</td>\n",
       "      <td>MYO5B:c.5392C&gt;T</td>\n",
       "      <td>G</td>\n",
       "      <td>A</td>\n",
       "      <td>Pathogenic</td>\n",
       "      <td>SNV</td>\n",
       "      <td>0</td>\n",
       "      <td>False</td>\n",
       "      <td>True</td>\n",
       "      <td>...</td>\n",
       "      <td>NaN</td>\n",
       "      <td>Q</td>\n",
       "      <td>*</td>\n",
       "      <td>NaN</td>\n",
       "      <td>NaN</td>\n",
       "      <td>NaN</td>\n",
       "      <td>NaN</td>\n",
       "      <td>NaN</td>\n",
       "      <td>14.849415</td>\n",
       "      <td>48.000</td>\n",
       "    </tr>\n",
       "    <tr>\n",
       "      <th>2</th>\n",
       "      <td>18</td>\n",
       "      <td>47361725</td>\n",
       "      <td>MYO5B:c.5383C&gt;T</td>\n",
       "      <td>G</td>\n",
       "      <td>A</td>\n",
       "      <td>Pathogenic</td>\n",
       "      <td>SNV</td>\n",
       "      <td>0</td>\n",
       "      <td>False</td>\n",
       "      <td>True</td>\n",
       "      <td>...</td>\n",
       "      <td>NaN</td>\n",
       "      <td>R</td>\n",
       "      <td>*</td>\n",
       "      <td>NaN</td>\n",
       "      <td>NaN</td>\n",
       "      <td>NaN</td>\n",
       "      <td>NaN</td>\n",
       "      <td>NaN</td>\n",
       "      <td>15.701726</td>\n",
       "      <td>52.000</td>\n",
       "    </tr>\n",
       "    <tr>\n",
       "      <th>3</th>\n",
       "      <td>18</td>\n",
       "      <td>47365526</td>\n",
       "      <td>MYO5B:c.4840C&gt;T</td>\n",
       "      <td>G</td>\n",
       "      <td>A</td>\n",
       "      <td>Pathogenic</td>\n",
       "      <td>SNV</td>\n",
       "      <td>0</td>\n",
       "      <td>False</td>\n",
       "      <td>True</td>\n",
       "      <td>...</td>\n",
       "      <td>NaN</td>\n",
       "      <td>Q</td>\n",
       "      <td>*</td>\n",
       "      <td>NaN</td>\n",
       "      <td>NaN</td>\n",
       "      <td>NaN</td>\n",
       "      <td>NaN</td>\n",
       "      <td>NaN</td>\n",
       "      <td>14.577744</td>\n",
       "      <td>46.000</td>\n",
       "    </tr>\n",
       "    <tr>\n",
       "      <th>4</th>\n",
       "      <td>18</td>\n",
       "      <td>47365610</td>\n",
       "      <td>MYO5B:c.4755_4756dupT</td>\n",
       "      <td>C</td>\n",
       "      <td>CCA</td>\n",
       "      <td>Pathogenic</td>\n",
       "      <td>INS</td>\n",
       "      <td>2</td>\n",
       "      <td>NaN</td>\n",
       "      <td>True</td>\n",
       "      <td>...</td>\n",
       "      <td>NaN</td>\n",
       "      <td>NaN</td>\n",
       "      <td>NaN</td>\n",
       "      <td>NaN</td>\n",
       "      <td>NaN</td>\n",
       "      <td>NaN</td>\n",
       "      <td>NaN</td>\n",
       "      <td>NaN</td>\n",
       "      <td>9.553096</td>\n",
       "      <td>35.000</td>\n",
       "    </tr>\n",
       "  </tbody>\n",
       "</table>\n",
       "<p>5 rows × 117 columns</p>\n",
       "</div>"
      ],
      "text/plain": [
       "   CHROM       POS                     ID REF  ALT        INFO Type  Length  \\\n",
       "0     18  47352774      MYO5B:c.5616-2A>G   T    C  Pathogenic  SNV       0   \n",
       "1     18  47361716        MYO5B:c.5392C>T   G    A  Pathogenic  SNV       0   \n",
       "2     18  47361725        MYO5B:c.5383C>T   G    A  Pathogenic  SNV       0   \n",
       "3     18  47365526        MYO5B:c.4840C>T   G    A  Pathogenic  SNV       0   \n",
       "4     18  47365610  MYO5B:c.4755_4756dupT   C  CCA  Pathogenic  INS       2   \n",
       "\n",
       "    isTv  isDerived   ...   Intron  oAA  nAA Grantham  PolyPhenCat  \\\n",
       "0  False       True   ...      NaN  NaN  NaN      NaN          NaN   \n",
       "1  False       True   ...      NaN    Q    *      NaN          NaN   \n",
       "2  False       True   ...      NaN    R    *      NaN          NaN   \n",
       "3  False       True   ...      NaN    Q    *      NaN          NaN   \n",
       "4    NaN       True   ...      NaN  NaN  NaN      NaN          NaN   \n",
       "\n",
       "   PolyPhenVal  SIFTcat  SIFTval   RawScore   PHRED  \n",
       "0          NaN      NaN      NaN   0.334537   6.023  \n",
       "1          NaN      NaN      NaN  14.849415  48.000  \n",
       "2          NaN      NaN      NaN  15.701726  52.000  \n",
       "3          NaN      NaN      NaN  14.577744  46.000  \n",
       "4          NaN      NaN      NaN   9.553096  35.000  \n",
       "\n",
       "[5 rows x 117 columns]"
      ]
     },
     "execution_count": 23,
     "metadata": {},
     "output_type": "execute_result"
    }
   ],
   "source": [
    "myo5b_anno.head()"
   ]
  },
  {
   "cell_type": "code",
   "execution_count": 25,
   "metadata": {},
   "outputs": [],
   "source": [
    "# examine which variants annotated by cadd are not presented in gavin file\n",
    "cadd_anno['chr_pos'] = cadd_anno.apply(lambda row:'%s_%s'%(row['#Chrom'],row['Pos']),axis=1)"
   ]
  },
  {
   "cell_type": "code",
   "execution_count": 22,
   "metadata": {},
   "outputs": [],
   "source": [
    "# add a column in cadd annotation table\n",
    "cadd_anno['chr_pos_ref_alt_gene'] = cadd_anno.apply(lambda row:'%s_%s_%s_%s_%s'%\n",
    "                                               (row['#Chrom'],row['Pos'],\n",
    "                                                row['Ref'],row['Alt'],\n",
    "                                                row['GeneName']),axis=1)"
   ]
  },
  {
   "cell_type": "code",
   "execution_count": 38,
   "metadata": {},
   "outputs": [],
   "source": [
    "gavin_anno['chr_pos_ref_alt'] = gavin_anno.apply(lambda row:'%s_%s_%s_%s'%\n",
    "                                               (row['chr'],row['pos'],\n",
    "                                                row['ref'],row['alt']),axis=1)"
   ]
  },
  {
   "cell_type": "code",
   "execution_count": 47,
   "metadata": {},
   "outputs": [],
   "source": [
    "cadd_anno['chr_pos'] = cadd_anno.apply(lambda row:'%s_%s'%\n",
    "                                               (row['#Chrom'],row['Pos']),axis=1)\n",
    "gavin_anno['chr_pos'] = gavin_anno.apply(lambda row:'%s_%s'%\n",
    "                                               (row['chr'],row['pos']),axis=1)"
   ]
  },
  {
   "cell_type": "code",
   "execution_count": 50,
   "metadata": {},
   "outputs": [
    {
     "name": "stdout",
     "output_type": "stream",
     "text": [
      "303801 303786\n"
     ]
    },
    {
     "data": {
      "text/plain": [
       "{'12_102158003',\n",
       " '12_88456549',\n",
       " '16_53691526',\n",
       " '17_59761415',\n",
       " '17_76993427',\n",
       " '17_78078910',\n",
       " '18_29126405',\n",
       " '19_36591653',\n",
       " '19_39997886',\n",
       " '1_243507600',\n",
       " '22_37466579',\n",
       " '2_219677447',\n",
       " '4_178361508',\n",
       " '8_94777802',\n",
       " '9_136218995',\n",
       " '9_97933393'}"
      ]
     },
     "execution_count": 50,
     "metadata": {},
     "output_type": "execute_result"
    }
   ],
   "source": [
    "print(len(set(cadd_anno['chr_pos'])), len(set(gavin_anno['chr_pos'])))\n",
    "set(cadd_anno['chr_pos']) - (set(gavin_anno['chr_pos']))"
   ]
  },
  {
   "cell_type": "code",
   "execution_count": 45,
   "metadata": {},
   "outputs": [
    {
     "data": {
      "text/plain": [
       "4980"
      ]
     },
     "execution_count": 45,
     "metadata": {},
     "output_type": "execute_result"
    }
   ],
   "source": [
    "len(set(cadd_anno['chr_pos_ref_alt']).symmetric_difference(set(gavin_anno['chr_pos_ref_alt'])))"
   ]
  },
  {
   "cell_type": "code",
   "execution_count": 44,
   "metadata": {},
   "outputs": [
    {
     "name": "stdout",
     "output_type": "stream",
     "text": [
      "323221 323295\n"
     ]
    }
   ],
   "source": [
    "print(len(set(cadd_anno['chr_pos_ref_alt'])), len(set(gavin_anno['chr_pos_ref_alt'])))"
   ]
  },
  {
   "cell_type": "code",
   "execution_count": 32,
   "metadata": {},
   "outputs": [
    {
     "data": {
      "text/plain": [
       "7767"
      ]
     },
     "execution_count": 32,
     "metadata": {},
     "output_type": "execute_result"
    }
   ],
   "source": [
    "len(set(gavin_anno.gene.unique()).symmetric_difference(set(cadd_anno.GeneID.unique())))"
   ]
  },
  {
   "cell_type": "code",
   "execution_count": 36,
   "metadata": {},
   "outputs": [
    {
     "data": {
      "text/plain": [
       "7767"
      ]
     },
     "execution_count": 36,
     "metadata": {},
     "output_type": "execute_result"
    }
   ],
   "source": [
    "len(set(cadd_anno.GeneID.unique()))+len(set(gavin_anno.gene.unique()))"
   ]
  },
  {
   "cell_type": "code",
   "execution_count": 35,
   "metadata": {},
   "outputs": [
    {
     "data": {
      "text/plain": [
       "323221"
      ]
     },
     "execution_count": 35,
     "metadata": {},
     "output_type": "execute_result"
    }
   ],
   "source": [
    "len(set(cadd_anno['chr_pos_ref_alt']))"
   ]
  },
  {
   "cell_type": "code",
   "execution_count": 36,
   "metadata": {},
   "outputs": [
    {
     "data": {
      "text/plain": [
       "(350536,)"
      ]
     },
     "execution_count": 36,
     "metadata": {},
     "output_type": "execute_result"
    }
   ],
   "source": [
    "cadd_anno['chr_pos_ref_alt'].shape"
   ]
  },
  {
   "cell_type": "code",
   "execution_count": 41,
   "metadata": {},
   "outputs": [
    {
     "data": {
      "text/plain": [
       "array(['ENSG00000176022', 'ENSG00000078808', nan, ..., 'ENSG00000185010',\n",
       "       'ENSG00000203870', 'ENSG00000237859'], dtype=object)"
      ]
     },
     "execution_count": 41,
     "metadata": {},
     "output_type": "execute_result"
    }
   ],
   "source": [
    "cadd_anno['GeneID'].unique()"
   ]
  },
  {
   "cell_type": "code",
   "execution_count": 51,
   "metadata": {},
   "outputs": [],
   "source": [
    "dic = cadd_anno.groupby(['chr_pos_ref_alt'])"
   ]
  },
  {
   "cell_type": "code",
   "execution_count": 62,
   "metadata": {},
   "outputs": [
    {
     "data": {
      "text/plain": [
       "158951    ENSG00000107521\n",
       "158952    ENSG00000119943\n",
       "Name: GeneID, dtype: object"
      ]
     },
     "execution_count": 62,
     "metadata": {},
     "output_type": "execute_result"
    }
   ],
   "source": [
    "dic.get_group('10_100177345_CT_C')['GeneID']"
   ]
  },
  {
   "cell_type": "code",
   "execution_count": null,
   "metadata": {},
   "outputs": [],
   "source": []
  },
  {
   "cell_type": "markdown",
   "metadata": {},
   "source": [
    "# So indeed one variant may be annotated for several genes by cadd web service"
   ]
  },
  {
   "cell_type": "code",
   "execution_count": 6,
   "metadata": {},
   "outputs": [],
   "source": [
    "# annotate the cadd with gavin 'info' column\n"
   ]
  },
  {
   "cell_type": "code",
   "execution_count": null,
   "metadata": {},
   "outputs": [],
   "source": []
  }
 ],
 "metadata": {
  "kernelspec": {
   "display_name": "py3",
   "language": "python",
   "name": "py3"
  },
  "language_info": {
   "codemirror_mode": {
    "name": "ipython",
    "version": 3
   },
   "file_extension": ".py",
   "mimetype": "text/x-python",
   "name": "python",
   "nbconvert_exporter": "python",
   "pygments_lexer": "ipython3",
   "version": "3.6.4"
  }
 },
 "nbformat": 4,
 "nbformat_minor": 2
}
