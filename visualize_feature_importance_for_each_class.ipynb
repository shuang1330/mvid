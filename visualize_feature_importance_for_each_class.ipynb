{
 "cells": [
  {
   "cell_type": "code",
   "execution_count": 109,
   "metadata": {
    "collapsed": true
   },
   "outputs": [],
   "source": [
    "import pandas as pd\n",
    "import numpy as np\n",
    "import os\n",
    "\n",
    "from sklearn.linear_model import LogisticRegression\n",
    "from sklearn.decomposition import PCA\n",
    "from sklearn.metrics import confusion_matrix\n",
    "\n",
    "import matplotlib.pyplot as plt"
   ]
  },
  {
   "cell_type": "code",
   "execution_count": 4,
   "metadata": {},
   "outputs": [
    {
     "data": {
      "text/html": [
       "<div>\n",
       "<style scoped>\n",
       "    .dataframe tbody tr th:only-of-type {\n",
       "        vertical-align: middle;\n",
       "    }\n",
       "\n",
       "    .dataframe tbody tr th {\n",
       "        vertical-align: top;\n",
       "    }\n",
       "\n",
       "    .dataframe thead th {\n",
       "        text-align: right;\n",
       "    }\n",
       "</style>\n",
       "<table border=\"1\" class=\"dataframe\">\n",
       "  <thead>\n",
       "    <tr style=\"text-align: right;\">\n",
       "      <th></th>\n",
       "      <th>CHROM</th>\n",
       "      <th>POS</th>\n",
       "      <th>ID</th>\n",
       "      <th>REF</th>\n",
       "      <th>ALT</th>\n",
       "      <th>INFO</th>\n",
       "      <th>Type</th>\n",
       "      <th>Length</th>\n",
       "      <th>isTv</th>\n",
       "      <th>isDerived</th>\n",
       "      <th>...</th>\n",
       "      <th>Intron</th>\n",
       "      <th>oAA</th>\n",
       "      <th>nAA</th>\n",
       "      <th>Grantham</th>\n",
       "      <th>PolyPhenCat</th>\n",
       "      <th>PolyPhenVal</th>\n",
       "      <th>SIFTcat</th>\n",
       "      <th>SIFTval</th>\n",
       "      <th>RawScore</th>\n",
       "      <th>PHRED</th>\n",
       "    </tr>\n",
       "  </thead>\n",
       "  <tbody>\n",
       "    <tr>\n",
       "      <th>0</th>\n",
       "      <td>18</td>\n",
       "      <td>47352774</td>\n",
       "      <td>MYO5B:c.5616-2A&gt;G</td>\n",
       "      <td>T</td>\n",
       "      <td>C</td>\n",
       "      <td>Pathogenic</td>\n",
       "      <td>SNV</td>\n",
       "      <td>0</td>\n",
       "      <td>False</td>\n",
       "      <td>True</td>\n",
       "      <td>...</td>\n",
       "      <td>NaN</td>\n",
       "      <td>NaN</td>\n",
       "      <td>NaN</td>\n",
       "      <td>NaN</td>\n",
       "      <td>NaN</td>\n",
       "      <td>NaN</td>\n",
       "      <td>NaN</td>\n",
       "      <td>NaN</td>\n",
       "      <td>0.334537</td>\n",
       "      <td>6.023</td>\n",
       "    </tr>\n",
       "    <tr>\n",
       "      <th>1</th>\n",
       "      <td>18</td>\n",
       "      <td>47361716</td>\n",
       "      <td>MYO5B:c.5392C&gt;T</td>\n",
       "      <td>G</td>\n",
       "      <td>A</td>\n",
       "      <td>Pathogenic</td>\n",
       "      <td>SNV</td>\n",
       "      <td>0</td>\n",
       "      <td>False</td>\n",
       "      <td>True</td>\n",
       "      <td>...</td>\n",
       "      <td>NaN</td>\n",
       "      <td>Q</td>\n",
       "      <td>*</td>\n",
       "      <td>NaN</td>\n",
       "      <td>NaN</td>\n",
       "      <td>NaN</td>\n",
       "      <td>NaN</td>\n",
       "      <td>NaN</td>\n",
       "      <td>14.849415</td>\n",
       "      <td>48.000</td>\n",
       "    </tr>\n",
       "    <tr>\n",
       "      <th>2</th>\n",
       "      <td>18</td>\n",
       "      <td>47361725</td>\n",
       "      <td>MYO5B:c.5383C&gt;T</td>\n",
       "      <td>G</td>\n",
       "      <td>A</td>\n",
       "      <td>Pathogenic</td>\n",
       "      <td>SNV</td>\n",
       "      <td>0</td>\n",
       "      <td>False</td>\n",
       "      <td>True</td>\n",
       "      <td>...</td>\n",
       "      <td>NaN</td>\n",
       "      <td>R</td>\n",
       "      <td>*</td>\n",
       "      <td>NaN</td>\n",
       "      <td>NaN</td>\n",
       "      <td>NaN</td>\n",
       "      <td>NaN</td>\n",
       "      <td>NaN</td>\n",
       "      <td>15.701726</td>\n",
       "      <td>52.000</td>\n",
       "    </tr>\n",
       "    <tr>\n",
       "      <th>3</th>\n",
       "      <td>18</td>\n",
       "      <td>47365526</td>\n",
       "      <td>MYO5B:c.4840C&gt;T</td>\n",
       "      <td>G</td>\n",
       "      <td>A</td>\n",
       "      <td>Pathogenic</td>\n",
       "      <td>SNV</td>\n",
       "      <td>0</td>\n",
       "      <td>False</td>\n",
       "      <td>True</td>\n",
       "      <td>...</td>\n",
       "      <td>NaN</td>\n",
       "      <td>Q</td>\n",
       "      <td>*</td>\n",
       "      <td>NaN</td>\n",
       "      <td>NaN</td>\n",
       "      <td>NaN</td>\n",
       "      <td>NaN</td>\n",
       "      <td>NaN</td>\n",
       "      <td>14.577744</td>\n",
       "      <td>46.000</td>\n",
       "    </tr>\n",
       "    <tr>\n",
       "      <th>4</th>\n",
       "      <td>18</td>\n",
       "      <td>47365610</td>\n",
       "      <td>MYO5B:c.4755_4756dupT</td>\n",
       "      <td>C</td>\n",
       "      <td>CCA</td>\n",
       "      <td>Pathogenic</td>\n",
       "      <td>INS</td>\n",
       "      <td>2</td>\n",
       "      <td>NaN</td>\n",
       "      <td>True</td>\n",
       "      <td>...</td>\n",
       "      <td>NaN</td>\n",
       "      <td>NaN</td>\n",
       "      <td>NaN</td>\n",
       "      <td>NaN</td>\n",
       "      <td>NaN</td>\n",
       "      <td>NaN</td>\n",
       "      <td>NaN</td>\n",
       "      <td>NaN</td>\n",
       "      <td>9.553096</td>\n",
       "      <td>35.000</td>\n",
       "    </tr>\n",
       "  </tbody>\n",
       "</table>\n",
       "<p>5 rows × 117 columns</p>\n",
       "</div>"
      ],
      "text/plain": [
       "   CHROM       POS                     ID REF  ALT        INFO Type  Length  \\\n",
       "0     18  47352774      MYO5B:c.5616-2A>G   T    C  Pathogenic  SNV       0   \n",
       "1     18  47361716        MYO5B:c.5392C>T   G    A  Pathogenic  SNV       0   \n",
       "2     18  47361725        MYO5B:c.5383C>T   G    A  Pathogenic  SNV       0   \n",
       "3     18  47365526        MYO5B:c.4840C>T   G    A  Pathogenic  SNV       0   \n",
       "4     18  47365610  MYO5B:c.4755_4756dupT   C  CCA  Pathogenic  INS       2   \n",
       "\n",
       "    isTv  isDerived   ...   Intron  oAA  nAA Grantham  PolyPhenCat  \\\n",
       "0  False       True   ...      NaN  NaN  NaN      NaN          NaN   \n",
       "1  False       True   ...      NaN    Q    *      NaN          NaN   \n",
       "2  False       True   ...      NaN    R    *      NaN          NaN   \n",
       "3  False       True   ...      NaN    Q    *      NaN          NaN   \n",
       "4    NaN       True   ...      NaN  NaN  NaN      NaN          NaN   \n",
       "\n",
       "   PolyPhenVal  SIFTcat  SIFTval   RawScore   PHRED  \n",
       "0          NaN      NaN      NaN   0.334537   6.023  \n",
       "1          NaN      NaN      NaN  14.849415  48.000  \n",
       "2          NaN      NaN      NaN  15.701726  52.000  \n",
       "3          NaN      NaN      NaN  14.577744  46.000  \n",
       "4          NaN      NaN      NaN   9.553096  35.000  \n",
       "\n",
       "[5 rows x 117 columns]"
      ]
     },
     "execution_count": 4,
     "metadata": {},
     "output_type": "execute_result"
    }
   ],
   "source": [
    "# load data\n",
    "file_path = os.path.join('data','myo5b_variants_patho_benign_cadd1.3fullannot_v1.xlsx')\n",
    "data = pd.ExcelFile(file_path)\n",
    "data = data.parse(data.sheet_names[0])\n",
    "data.head()"
   ]
  },
  {
   "cell_type": "code",
   "execution_count": 44,
   "metadata": {
    "collapsed": true
   },
   "outputs": [],
   "source": [
    "data_no_null = data"
   ]
  },
  {
   "cell_type": "code",
   "execution_count": 45,
   "metadata": {},
   "outputs": [],
   "source": [
    "# delete columns with less than 30% values\n",
    "null_thres = data.shape[0] * 0.3\n",
    "for col in data.columns:\n",
    "    null = data[col].isnull().values.ravel().sum()\n",
    "    if null > null_thres:\n",
    "        data_no_null = data_no_null.drop([col],axis=1)\n",
    "# delete 'CHROM', 'ID', 'GeneID','FeatureID','GeneName'\n",
    "del_list = ['CHROM', 'ID', 'GeneID','FeatureID','GeneName','PHRED','RawScore']\n",
    "data_no_null = data_no_null.drop(del_list,axis=1)"
   ]
  },
  {
   "cell_type": "code",
   "execution_count": 46,
   "metadata": {},
   "outputs": [],
   "source": [
    "# select only numerical data\n",
    "data_x = data_no_null[[col for col in data_no_null.columns if data_no_null[col].dtype != np.object]]\n",
    "data_x = data_x.fillna(0)\n",
    "data_y = data_no_null['INFO'].astype('category')"
   ]
  },
  {
   "cell_type": "code",
   "execution_count": 47,
   "metadata": {},
   "outputs": [
    {
     "data": {
      "text/plain": [
       "LogisticRegression(C=1.0, class_weight=None, dual=False, fit_intercept=True,\n",
       "          intercept_scaling=1, max_iter=100, multi_class='ovr', n_jobs=1,\n",
       "          penalty='l2', random_state=None, solver='liblinear', tol=0.0001,\n",
       "          verbose=0, warm_start=False)"
      ]
     },
     "execution_count": 47,
     "metadata": {},
     "output_type": "execute_result"
    }
   ],
   "source": [
    "# logistic regression model\n",
    "logr = LogisticRegression()\n",
    "logr.fit(data_x,data_y)"
   ]
  },
  {
   "cell_type": "code",
   "execution_count": 60,
   "metadata": {},
   "outputs": [
    {
     "name": "stdout",
     "output_type": "stream",
     "text": [
      "(54,)\n",
      "(1, 54)\n",
      "[ -1.11073624e-13]\n"
     ]
    }
   ],
   "source": [
    "print(data_x.columns.shape)\n",
    "print(logr.coef_.shape)\n",
    "print(logr.intercept_)"
   ]
  },
  {
   "cell_type": "code",
   "execution_count": 71,
   "metadata": {},
   "outputs": [
    {
     "name": "stdout",
     "output_type": "stream",
     "text": [
      "(8, 54)\n",
      "[  1.67613840e+10   4.39597752e+09   5.76826761e+08   1.85081419e+06\n",
      "   1.29343421e+06   6.19369864e+04   1.88917471e+03   9.25226293e+02]\n"
     ]
    }
   ],
   "source": [
    "# pca\n",
    "pca = PCA(n_components=8)\n",
    "data_x_pca = pca.fit_transform(data_x)\n",
    "print(pca.components_.shape)\n",
    "print(pca.explained_variance_)"
   ]
  },
  {
   "cell_type": "code",
   "execution_count": 72,
   "metadata": {},
   "outputs": [
    {
     "data": {
      "text/plain": [
       "array([[193,   2],\n",
       "       [ 51,   2]])"
      ]
     },
     "execution_count": 72,
     "metadata": {},
     "output_type": "execute_result"
    }
   ],
   "source": [
    "# pca+LogisticRegression\n",
    "logr.fit(data_x_pca,data_y)\n",
    "pred = logr.predict(data_x_pca)\n",
    "confusion_matrix(data_y,pred)"
   ]
  },
  {
   "cell_type": "code",
   "execution_count": 103,
   "metadata": {},
   "outputs": [],
   "source": [
    "# draw a overlapping bar graph for pandas dataframes\n",
    "def overlapped_bar(df, show=False, width=0.9, alpha=.5,\n",
    "                   title='', xlabel='', ylabel='', **plot_kwargs):\n",
    "    \"\"\"Like a stacked bar chart except bars on top of each other with transparency\"\"\"\n",
    "    xlabel = xlabel or df.index.name\n",
    "    N = len(df)\n",
    "    M = len(df.columns)\n",
    "    indices = np.arange(N)\n",
    "    colors = ['steelblue', 'firebrick', 'darksage', 'goldenrod', 'gray'] * int(M / 5. + 1)\n",
    "    for i, label, color in zip(range(M), df.columns, colors):\n",
    "        kwargs = plot_kwargs\n",
    "        kwargs.update({'color': color, 'label': label})\n",
    "        plt.bar(indices, df[label], width=width, alpha=alpha if i else 1, **kwargs)\n",
    "        plt.xticks(indices + .5 * width,\n",
    "                   ['{}'.format(idx) for idx in df.index.values])\n",
    "    plt.legend()\n",
    "    plt.title(title)\n",
    "    plt.xlabel(xlabel)\n",
    "    if show:\n",
    "        plt.show()\n",
    "    return plt.gcf()"
   ]
  },
  {
   "cell_type": "code",
   "execution_count": 132,
   "metadata": {},
   "outputs": [],
   "source": [
    "# calculate the feature importance for each class\n",
    "path_data_x = data_x[data_y=='Pathogenic'].mean()\n",
    "beni_data_x = data_x[data_y=='Benign'].mean()\n",
    "featu_impor = pca.components_*(logr.coef_.reshape((8,1)))\n",
    "featu_impor_path = np.log(abs(featu_impor.sum(axis=0)*path_data_x))\n",
    "featu_impor_beni = np.log(abs(featu_impor.sum(axis=0)*beni_data_x))"
   ]
  },
  {
   "cell_type": "code",
   "execution_count": 137,
   "metadata": {},
   "outputs": [
    {
     "data": {
      "image/png": "[encoded data removed]",
      "text/plain": [
       "<matplotlib.figure.Figure at 0x1133aa4e0>"
      ]
     },
     "metadata": {},
     "output_type": "display_data"
    },
    {
     "data": {
      "text/plain": [
       "<matplotlib.figure.Figure at 0x1134e6630>"
      ]
     },
     "execution_count": 137,
     "metadata": {},
     "output_type": "execute_result"
    },
    {
     "data": {
      "text/plain": [
       "<matplotlib.figure.Figure at 0x1134e6630>"
      ]
     },
     "metadata": {},
     "output_type": "display_data"
    }
   ],
   "source": [
    "# show the differences in two classes\n",
    "df = pd.DataFrame(np.matrix([featu_impor_beni,featu_impor_path]).T, columns=['Benign', 'Pathogenic'],\n",
    "                  index=featu_impor_beni.keys())\n",
    "overlapped_bar(df, show=True)"
   ]
  },
  {
   "cell_type": "code",
   "execution_count": 110,
   "metadata": {},
   "outputs": [],
   "source": []
  },
  {
   "cell_type": "code",
   "execution_count": null,
   "metadata": {
    "collapsed": true
   },
   "outputs": [],
   "source": []
  }
 ],
 "metadata": {
  "kernelspec": {
   "display_name": "py3",
   "language": "python",
   "name": "py3"
  },
  "language_info": {
   "codemirror_mode": {
    "name": "ipython",
    "version": 3
   },
   "file_extension": ".py",
   "mimetype": "text/x-python",
   "name": "python",
   "nbconvert_exporter": "python",
   "pygments_lexer": "ipython3",
   "version": "3.6.3"
  }
 },
 "nbformat": 4,
 "nbformat_minor": 2
}
