{
 "cells": [
  {
   "cell_type": "code",
   "execution_count": 6,
   "metadata": {},
   "outputs": [],
   "source": [
    "import pandas as pd\n",
    "import os\n",
    "import numpy as np\n",
    "\n",
    "from lib.preprocessing_cadd_annotation import drop_impute"
   ]
  },
  {
   "cell_type": "code",
   "execution_count": 2,
   "metadata": {},
   "outputs": [
    {
     "name": "stdout",
     "output_type": "stream",
     "text": [
      "['__builtins__', '__cached__', '__doc__', '__file__', '__loader__', '__name__', '__package__', '__spec__', 'drop_impute', 'os', 'pd']\n"
     ]
    }
   ],
   "source": [
    "# print(dir(lib.preprocessing_cadd_annotation))"
   ]
  },
  {
   "cell_type": "code",
   "execution_count": 3,
   "metadata": {},
   "outputs": [],
   "source": [
    "def load_myo5b_excel(file_path):\n",
    "    excel_file = pd.ExcelFile(file_path)\n",
    "    res = excel_file.parse(excel_file.sheet_names[0])\n",
    "    return res\n",
    "\n",
    "def load_cadd_annotation(file_path):\n",
    "    '''\n",
    "    load original cadd annotation\n",
    "    '''\n",
    "    dtype = {'#Chrom':np.object,\n",
    "            'isDerived':np.object,\n",
    "            'motifEName':np.object,\n",
    "            'motifEHIPos':np.object,\n",
    "            'PolyPhenCat':np.object,\n",
    "            'SIFTcat':np.object}\n",
    "    cadd_anno = pd.read_csv(file_path,sep='\\t',dtype=dtype)\n",
    "    print('Cadd annotation loaded.')\n",
    "    return cadd_anno\n",
    "\n",
    "def map_myh7_chrposDic(row):\n",
    "    if row in chrpos_info_dic:\n",
    "        return chrpos_info_dic[row]\n",
    "    else:\n",
    "        return 'NA'\n",
    "    \n",
    "def display_column_names(column_names,size = 4):\n",
    "    '''\n",
    "    when there are too many columns\n",
    "    display every four column names in a line\n",
    "    '''\n",
    "    for i in range(1,len(column_names),size):\n",
    "        print(column_names[i:i+4].values)\n",
    "\n",
    "def add_new_column_to_cadd_gavin_tables(cadd_anno,gavin_anno):\n",
    "    '''\n",
    "    very specific for the case here only\n",
    "    probably needs better structuring\n",
    "    '''\n",
    "    cadd_anno['chr_pos'] = cadd_anno.apply(lambda row: '%s_%s'%\n",
    "                                         (row['#Chrom'],row['Pos']),axis=1)\n",
    "    gavin_anno['chr_pos'] = gavin_anno.apply(lambda row: '%s_%s'%\n",
    "                                         (row['chr'],row['pos']),axis=1)\n",
    "    print('Added a chr_pos columns to both cadd_anno and gavin_anno table') "
   ]
  },
  {
   "cell_type": "code",
   "execution_count": 7,
   "metadata": {},
   "outputs": [
    {
     "name": "stdout",
     "output_type": "stream",
     "text": [
      "Cadd annotation loaded.\n",
      "Added a chr_pos columns to both cadd_anno and gavin_anno table\n",
      "Discarded variants_gene that could not be found in info.\n",
      "Finally we are left with gene variants info with shape: (350503, 118)\n",
      "The original data table has shape: (350503, 118)\n",
      "Deleted features that were not used by cadd paper.\n",
      "Deleted features without a single row value.\n",
      "Impute with recommended values in cadd paper.\n",
      "4212 Anc\n",
      "69637 isTv\n",
      "42 priPhCons\n",
      "11208 bStatistic\n",
      "70 mutIndex\n",
      "320266 mirSVR-Score\n",
      "320266 mirSVR-E\n",
      "320266 mirSVR-Aln\n",
      "350487 targetScan\n",
      "11390 fitCons\n",
      "758 EncH3K27Ac\n",
      "1013 EncH3K4Me1\n",
      "585 EncH3K4Me3\n",
      "2830 EncNucleo\n",
      "214 Segway\n",
      "349579 motifECount\n",
      "349579 motifEName\n",
      "349579 motifEHIPos\n",
      "349579 motifEScoreChng\n",
      "68483 cDNApos\n",
      "68483 relcDNApos\n",
      "72796 CDSpos\n",
      "72796 relCDSpos\n",
      "72796 protPos\n",
      "72796 relProtPos\n",
      "121137 Domain\n",
      "259931 Dst2Splice\n",
      "259931 Dst2SplType\n",
      "114605 oAA\n",
      "114605 nAA\n",
      "162523 Grantham\n",
      "173752 PolyPhenCat\n",
      "169743 SIFTcat\n",
      "Deleted columns that I do not know how to impute:\n",
      "Added a column with GeneName.\n",
      "Added a column with POS.\n",
      "The processed data table is saved to data/all_variants/cadd_with_info_no_nan_all_imputed.tsv\n"
     ]
    }
   ],
   "source": [
    "if __name__=='__main__':\n",
    "    cadd_path = os.path.join('data','all_variants','cadd_annotation.tsv')\n",
    "    info_path = os.path.join('data','all_variants','calibrationvariants_r0.4.tsv')\n",
    "    save_path = os.path.join('data','all_variants','cadd_with_info_no_nan_all_imputed.tsv')\n",
    "    \n",
    "    cadd_orginal = load_cadd_annotation(cadd_path)\n",
    "    info_all_var = pd.read_csv(info_path,sep='\\t')\n",
    "    # annotate cadd_anno with group column in gavin_anno\n",
    "    add_new_column_to_cadd_gavin_tables(cadd_orginal,info_all_var)\n",
    "\n",
    "    # a dictionary with gavin group info\n",
    "    chrpos_info_dic = info_all_var.set_index('chr_pos')['group'].to_dict()\n",
    "    cadd_orginal['INFO'] = cadd_orginal['chr_pos'].apply(map_myh7_chrposDic)\n",
    "\n",
    "    # drop variants annotated by cadd, but could not found info in the gavin annotation\n",
    "    all_variants = cadd_orginal.drop(cadd_orginal.index[cadd_orginal.INFO=='NA'],axis=0)\n",
    "    print('Discarded variants_gene that could not be found in info.')\n",
    "    print('Finally we are left with gene variants info with shape:',all_variants.shape)\n",
    "   \n",
    "    drop_impute(all_variants,GeneName=True,POS=True,SAVE_PATH=save_path)"
   ]
  },
  {
   "cell_type": "code",
   "execution_count": null,
   "metadata": {},
   "outputs": [],
   "source": []
  },
  {
   "cell_type": "code",
   "execution_count": null,
   "metadata": {},
   "outputs": [],
   "source": []
  }
 ],
 "metadata": {
  "kernelspec": {
   "display_name": "py3",
   "language": "python",
   "name": "py3"
  },
  "language_info": {
   "codemirror_mode": {
    "name": "ipython",
    "version": 3
   },
   "file_extension": ".py",
   "mimetype": "text/x-python",
   "name": "python",
   "nbconvert_exporter": "python",
   "pygments_lexer": "ipython3",
   "version": "3.6.3"
  }
 },
 "nbformat": 4,
 "nbformat_minor": 2
}
