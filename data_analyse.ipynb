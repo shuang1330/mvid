{
 "cells": [
  {
   "cell_type": "code",
   "execution_count": 1,
   "metadata": {},
   "outputs": [],
   "source": [
    "import pandas as pd\n",
    "import os\n",
    "from os.path import isfile, join\n",
    "\n",
    "from sklearn import preprocessing\n",
    "from sklearn.model_selection import train_test_split\n",
    "from sklearn.linear_model import LogisticRegression\n",
    "from sklearn.svm import SVC\n",
    "from sklearn.metrics import confusion_matrix\n",
    "from sklearn.decomposition import PCA\n",
    "from sklearn.ensemble import RandomForestClassifier\n",
    "from sklearn import metrics\n",
    "from sklearn.preprocessing import LabelEncoder\n",
    "from sklearn.model_selection import GridSearchCV\n",
    "\n",
    "import numpy as np\n",
    "\n",
    "import matplotlib.pyplot as plt\n",
    "\n",
    "from lib.drawing import hist_compare"
   ]
  },
  {
   "cell_type": "code",
   "execution_count": 2,
   "metadata": {},
   "outputs": [],
   "source": [
    "# show all rows\n",
    "pd.options.display.max_rows = 999"
   ]
  },
  {
   "cell_type": "code",
   "execution_count": 3,
   "metadata": {},
   "outputs": [],
   "source": [
    "# read data file\n",
    "datafolder = 'data/'\n",
    "datafile = 'myo5b_variants_patho_benign_cadd1.3fullannot_v1.xlsx'\n",
    "datatable = pd.ExcelFile(os.path.join(datafolder,datafile))\n",
    "datatable_pd = datatable.parse(datatable.sheet_names[0])\n",
    "pos = datatable_pd['POS']"
   ]
  },
  {
   "cell_type": "code",
   "execution_count": 4,
   "metadata": {},
   "outputs": [
    {
     "data": {
      "text/plain": [
       "(248, 117)"
      ]
     },
     "execution_count": 4,
     "metadata": {},
     "output_type": "execute_result"
    }
   ],
   "source": [
    "# display data\n",
    "datatable_pd.shape"
   ]
  },
  {
   "cell_type": "code",
   "execution_count": 5,
   "metadata": {
    "scrolled": false
   },
   "outputs": [
    {
     "name": "stdout",
     "output_type": "stream",
     "text": [
      "['CHROM' 'POS' 'ID' 'REF' 'ALT']\n",
      "['INFO' 'Type' 'Length' 'isTv' 'isDerived']\n",
      "['AnnoType' 'Consequence' 'ConsScore' 'ConsDetail' 'GC']\n",
      "['CpG' 'mapAbility20bp' 'mapAbility35bp' 'scoreSegDup' 'priPhCons']\n",
      "['mamPhCons' 'verPhCons' 'priPhyloP' 'mamPhyloP' 'verPhyloP']\n",
      "['GerpN' 'GerpS' 'GerpRS' 'GerpRSpval' 'bStatistic']\n",
      "['mutIndex' 'dnaHelT' 'dnaMGW' 'dnaProT' 'dnaRoll']\n",
      "['mirSVR-Score' 'mirSVR-E' 'mirSVR-Aln' 'targetScan' 'fitCons']\n",
      "['cHmmTssA' 'cHmmTssAFlnk' 'cHmmTxFlnk' 'cHmmTx' 'cHmmTxWk']\n",
      "['cHmmEnhG' 'cHmmEnh' 'cHmmZnfRpts' 'cHmmHet' 'cHmmTssBiv']\n",
      "['cHmmBivFlnk' 'cHmmEnhBiv' 'cHmmReprPC' 'cHmmReprPCWk' 'cHmmQuies']\n",
      "['EncExp' 'EncH3K27Ac' 'EncH3K4Me1' 'EncH3K4Me3' 'EncNucleo']\n",
      "['EncOCC' 'EncOCCombPVal' 'EncOCDNasePVal' 'EncOCFairePVal'\n",
      " 'EncOCpolIIPVal']\n",
      "['EncOCctcfPVal' 'EncOCmycPVal' 'EncOCDNaseSig' 'EncOCFaireSig'\n",
      " 'EncOCpolIISig']\n",
      "['EncOCctcfSig' 'EncOCmycSig' 'Segway' 'tOverlapMotifs' 'motifDist']\n",
      "['motifECount' 'motifEName' 'motifEHIPos' 'motifEScoreChng' 'TFBS']\n",
      "['TFBSPeaks' 'TFBSPeaksMax' 'isKnownVariant' 'ESP_AF' 'ESP_AFR']\n",
      "['ESP_EUR' 'TG_AF' 'TG_ASN' 'TG_AMR' 'TG_AFR']\n",
      "['TG_EUR' 'minDistTSS' 'minDistTSE' 'GeneID' 'FeatureID']\n",
      "['CCDS' 'GeneName' 'cDNApos' 'relcDNApos' 'CDSpos']\n",
      "['relCDSpos' 'protPos' 'relProtPos' 'Domain' 'Dst2Splice']\n",
      "['Dst2SplType' 'Exon' 'Intron' 'oAA' 'nAA']\n",
      "['Grantham' 'PolyPhenCat' 'PolyPhenVal' 'SIFTcat' 'SIFTval']\n",
      "['RawScore' 'PHRED']\n"
     ]
    }
   ],
   "source": [
    "for i in range(0,len(datatable_pd.columns),5):\n",
    "    print(datatable_pd.columns[i:i+5].values)"
   ]
  },
  {
   "cell_type": "code",
   "execution_count": 6,
   "metadata": {},
   "outputs": [
    {
     "name": "stdout",
     "output_type": "stream",
     "text": [
      "(248, 87)\n"
     ]
    }
   ],
   "source": [
    "# delete some columns that were not used in cadd paper\n",
    "del_cols = ['CHROM','POS','ID','isDerived','AnnoType','ConsScore',\n",
    "            'ConsDetail','mapAbility20bp','mapAbility35bp',\n",
    "            'scoreSegDup','isKnownVariant','ESP_AF','ESP_AFR',\n",
    "            'ESP_EUR','TG_AF','TG_ASN','TG_AMR','TG_AFR','TG_EUR',\n",
    "            'GeneID','FeatureID','CCDS','GeneName','Exon',\n",
    "            'Intron']\n",
    "datatable_pd = datatable_pd.drop(columns=del_cols)\n",
    "\n",
    "# delete columns without a single value\n",
    "datatable_pd = datatable_pd.dropna(axis=1,how='all')\n",
    "print(datatable_pd.shape)"
   ]
  },
  {
   "cell_type": "code",
   "execution_count": 7,
   "metadata": {},
   "outputs": [
    {
     "name": "stdout",
     "output_type": "stream",
     "text": [
      "(248, 87)\n"
     ]
    }
   ],
   "source": [
    "print(datatable_pd.shape)"
   ]
  },
  {
   "cell_type": "code",
   "execution_count": 8,
   "metadata": {
    "scrolled": false
   },
   "outputs": [
    {
     "name": "stdout",
     "output_type": "stream",
     "text": [
      "column  nr_of_null  most_often  freq   unique\n",
      "isTv  30  False  134  [False nan True]\n",
      "Domain  73  ndomain  144  [nan 'ndomain' 'ncoils']\n",
      "Dst2SplType  160  ACCEPTOR  49  [nan 'DONOR' 'ACCEPTOR']\n",
      "oAA  78  R  28  [nan 'Q' 'R' 'L' '-' 'AR' 'P' 'I' 'F' 'C' 'N' 'G' 'W' 'S' 'A' 'V' 'M' 'T'\n",
      " 'Y' 'K' 'E' 'D' 'H']\n",
      "nAA  78  *  34  [nan '*' 'R' 'P' 'G' 'L' 'C' 'F' 'S' 'W' 'H' 'V' 'E' 'M' 'Y' 'N' 'I' 'A'\n",
      " 'Q' 'T' 'K' 'D']\n",
      "PolyPhenCat  141  benign  52  [nan 'probably_damaging' 'benign' 'possibly_damaging']\n",
      "SIFTcat  141  tolerated  56  [nan 'deleterious' 'tolerated']\n"
     ]
    }
   ],
   "source": [
    "# check missing values for object data\n",
    "print('{0: <5}  {1: <5}  {2: <5}  {3: <5}  {4: <5}'.format('column','nr_of_null',\n",
    "                                                           'most_often','freq','unique'))\n",
    "for column in datatable_pd.select_dtypes(include=[np.object]).columns:\n",
    "    null = datatable_pd[column].isnull().values.ravel().sum()\n",
    "    if null > 0:\n",
    "        print('{}  {}  {}  {}  {}'.format(column,null,\n",
    "                                          datatable_pd[column].describe().top,\n",
    "                                          datatable_pd[column].describe().freq,\n",
    "                                          datatable_pd[column].unique()))\n",
    "# exclude 'GeneID', 'CCDS', 'GeneName'\n",
    "# leave other missing values missing"
   ]
  },
  {
   "cell_type": "code",
   "execution_count": 9,
   "metadata": {},
   "outputs": [
    {
     "name": "stdout",
     "output_type": "stream",
     "text": [
      "GerpRS\t32\t549.744907407\n",
      "GerpRSpval\t32\t1.23679239352e-10\n",
      "mirSVR-Score\t230\t-0.274188888889\n",
      "mirSVR-E\t230\t-12.3311111111\n",
      "mirSVR-Aln\t230\t141.444444444\n",
      "EncExp\t8\t32.2477916667\n",
      "EncOCC\t220\t3.21428571429\n",
      "EncOCCombPVal\t220\t2.66035714286\n",
      "EncOCDNasePVal\t220\t2.63392857143\n",
      "EncOCFairePVal\t220\t0.73\n",
      "EncOCpolIIPVal\t220\t0.399285714286\n",
      "EncOCctcfPVal\t220\t2.21535714286\n",
      "EncOCmycPVal\t220\t1.10928571429\n",
      "EncOCDNaseSig\t220\t0.107142857143\n",
      "EncOCFaireSig\t220\t0.0132142857143\n",
      "EncOCpolIISig\t220\t0.0114285714286\n",
      "EncOCctcfSig\t220\t0.265\n",
      "EncOCmycSig\t220\t0.0635714285714\n",
      "tOverlapMotifs\t241\t4.0\n",
      "motifDist\t241\t-0.131428571429\n",
      "TFBS\t227\t3.42857142857\n",
      "TFBSPeaks\t227\t4.04761904762\n",
      "TFBSPeaksMax\t227\t57.8333047619\n",
      "cDNApos\t40\t2675.76923077\n",
      "relcDNApos\t40\t0.281442307692\n",
      "CDSpos\t58\t1958.24736842\n",
      "relCDSpos\t58\t0.353157894737\n",
      "protPos\t58\t653.152631579\n",
      "relProtPos\t58\t0.353684210526\n",
      "Dst2Splice\t160\t3.47727272727\n",
      "Grantham\t141\t75.2242990654\n",
      "PolyPhenVal\t141\t0.474037383178\n",
      "SIFTval\t141\t0.199439252336\n"
     ]
    }
   ],
   "source": [
    "# check missing values for numerical data\n",
    "for column in datatable_pd.select_dtypes(exclude=[np.object]).columns:\n",
    "    null = datatable_pd[column].isnull().values.ravel().sum()\n",
    "    if null > 0:\n",
    "#         print(column)\n",
    "        print('%s\\t%s\\t%s'%(column, null,datatable_pd[column].mean()))"
   ]
  },
  {
   "cell_type": "code",
   "execution_count": 10,
   "metadata": {},
   "outputs": [
    {
     "name": "stdout",
     "output_type": "stream",
     "text": [
      "mirSVR-Score\t230\t-0.27\t-1.09\n",
      "mirSVR-E\t230\t-12.33\t-24.38\n",
      "mirSVR-Aln\t230\t141.44\t120.00\n",
      "cDNApos\t40\t2675.77\t301.00\n",
      "relcDNApos\t40\t0.28\t0.03\n",
      "CDSpos\t58\t1958.25\t1.00\n",
      "relCDSpos\t58\t0.35\t0.00\n",
      "protPos\t58\t653.15\t1.00\n",
      "relProtPos\t58\t0.35\t0.00\n",
      "Dst2Splice\t160\t3.48\t-15.00\n",
      "Grantham\t141\t75.22\t0.00\n"
     ]
    }
   ],
   "source": [
    "# fill in values recommended by cadd paper\n",
    "values = {'GerpRS':0, 'GerpRSpval':1,'EncExp':0,'EncOCC':5,'EncOCCombPVal':0,\n",
    "          'EncOCDNasePVal':0,'EncOCFairePVal':0,'EncOCpolIIPVal':0,'EncOCctcfPVal':0,\n",
    "          'EncOCmycPVal':0,'EncOCDNaseSig':0,'EncOCFaireSig':0,'EncOCpolIISig':0,\n",
    "          'EncOCctcfSig':0,'EncOCmycSig':0,'tOverlapMotifs':0,'motifDist':0,\n",
    "          'TFBS':0,'TFBSPeaksMax':0,'PolyPhenVal':0,'SIFTval':0,'TFBSPeaks':0}\n",
    "datatable_pd = datatable_pd.fillna(values)\n",
    "# check again the missing values for numerical data after fillna\n",
    "for column in datatable_pd.select_dtypes(exclude=[np.object]).columns:\n",
    "    null = datatable_pd[column].isnull().values.ravel().sum()\n",
    "    if null > 0:\n",
    "        print('%s\\t%s\\t%.2f\\t%.2f'%(column, null,datatable_pd[column].mean(),datatable_pd[column].min()))"
   ]
  },
  {
   "cell_type": "code",
   "execution_count": 11,
   "metadata": {},
   "outputs": [
    {
     "name": "stdout",
     "output_type": "stream",
     "text": [
      "isTv\t30\t[False nan True]\n",
      "Domain\t73\t[nan 'ndomain' 'ncoils']\n",
      "Dst2SplType\t160\t[nan 'DONOR' 'ACCEPTOR']\n",
      "oAA\t78\t[nan 'Q' 'R' 'L' '-' 'AR' 'P' 'I' 'F' 'C' 'N' 'G' 'W' 'S' 'A' 'V' 'M' 'T'\n",
      " 'Y' 'K' 'E' 'D' 'H']\n",
      "nAA\t78\t[nan '*' 'R' 'P' 'G' 'L' 'C' 'F' 'S' 'W' 'H' 'V' 'E' 'M' 'Y' 'N' 'I' 'A'\n",
      " 'Q' 'T' 'K' 'D']\n",
      "PolyPhenCat\t141\t[nan 'probably_damaging' 'benign' 'possibly_damaging']\n",
      "SIFTcat\t141\t[nan 'deleterious' 'tolerated']\n"
     ]
    }
   ],
   "source": [
    "# check again the missing values for numerical data after fillna\n",
    "for column in datatable_pd.select_dtypes(include=[np.object]).columns:\n",
    "    null = datatable_pd[column].isnull().values.ravel().sum()\n",
    "    if null > 0:\n",
    "        print('%s\\t%s\\t%s'%(column, null,datatable_pd[column].unique()))"
   ]
  },
  {
   "cell_type": "code",
   "execution_count": 12,
   "metadata": {},
   "outputs": [
    {
     "name": "stdout",
     "output_type": "stream",
     "text": [
      "(248, 193)\n"
     ]
    }
   ],
   "source": [
    "# transform objects to dummies\n",
    "categorical_feature_names = datatable_pd.select_dtypes(include=np.object).columns\n",
    "categories={} # contains all the levels in those feature columns\n",
    "for f in categorical_feature_names:\n",
    "    datatable_pd[f] = datatable_pd[f].astype('category')\n",
    "    categories[f] = datatable_pd[f].cat.categories\n",
    "\n",
    "dummy_data = pd.get_dummies(datatable_pd,columns=[col for col in categorical_feature_names \n",
    "                                                  if col not in ['INFO']])\n",
    "# change info column into scalar column\n",
    "dummy_data['INFO'] = datatable_pd['INFO'].astype('category').cat.codes\n",
    "print(dummy_data.shape)"
   ]
  },
  {
   "cell_type": "code",
   "execution_count": 13,
   "metadata": {
    "scrolled": false
   },
   "outputs": [
    {
     "name": "stdout",
     "output_type": "stream",
     "text": [
      "(248, 182)\n"
     ]
    }
   ],
   "source": [
    "# drop nan values\n",
    "dummy_data_del_all_nan = dummy_data.copy()\n",
    "for col in dummy_data.columns:\n",
    "    null = dummy_data[col].isnull().values.ravel().sum()\n",
    "    if null > 0:\n",
    "        dummy_data_del_all_nan = dummy_data_del_all_nan.drop(columns=col)\n",
    "print(dummy_data_del_all_nan.shape)"
   ]
  },
  {
   "cell_type": "code",
   "execution_count": 14,
   "metadata": {},
   "outputs": [],
   "source": [
    "# normalized the numerical values before any processing afterwards\n",
    "min_max_scaler = preprocessing.MinMaxScaler()\n",
    "dummy_data_scaled = min_max_scaler.fit_transform(dummy_data_del_all_nan)\n",
    "dummy_data_scaled = pd.DataFrame(dummy_data_scaled,columns=dummy_data_del_all_nan.columns)"
   ]
  },
  {
   "cell_type": "code",
   "execution_count": 18,
   "metadata": {},
   "outputs": [],
   "source": [
    "# save the preprocessed data as csv file\n",
    "dummy_data_scaled.to_csv('data/dummy_no_nan_data.csv',sep='\\t',index=False)"
   ]
  },
  {
   "cell_type": "code",
   "execution_count": 19,
   "metadata": {
    "scrolled": true
   },
   "outputs": [],
   "source": [
    "# save the preprocessed data as csv file\n",
    "dummy_data_scaled_withpos = dummy_data_scaled\n",
    "dummy_data_scaled_withpos['POS'] = pos\n",
    "dummy_data_scaled_withpos.to_csv('data/dummy_no_nan_data_withpos.csv',sep='\\t',index=False)"
   ]
  },
  {
   "cell_type": "code",
   "execution_count": null,
   "metadata": {},
   "outputs": [],
   "source": []
  },
  {
   "cell_type": "code",
   "execution_count": 19,
   "metadata": {},
   "outputs": [
    {
     "name": "stdout",
     "output_type": "stream",
     "text": [
      "(186, 182) (62, 182)\n",
      "(186, 181)\n"
     ]
    }
   ],
   "source": [
    "# split train and test datasets\n",
    "train, test = train_test_split(dummy_data_scaled,test_size=0.25)\n",
    "print(train.shape, test.shape)\n",
    "train_x = train[[col for col in train.columns if col not in ['INFO']]]\n",
    "train_y = train['INFO']\n",
    "test_x = test[[col for col in test.columns if col not in ['INFO']]]\n",
    "test_y = test['INFO']\n",
    "print(train_x.shape)"
   ]
  },
  {
   "cell_type": "code",
   "execution_count": 20,
   "metadata": {},
   "outputs": [
    {
     "name": "stdout",
     "output_type": "stream",
     "text": [
      "[[41  5]\n",
      " [12  4]]\n"
     ]
    },
    {
     "data": {
      "image/png": "[encoded data removed]",
      "text/plain": [
       "<matplotlib.figure.Figure at 0x1093f9cf8>"
      ]
     },
     "metadata": {},
     "output_type": "display_data"
    }
   ],
   "source": [
    "# randomforest\n",
    "from sklearn.ensemble import RandomForestClassifier\n",
    "clf = RandomForestClassifier(max_depth=10, random_state=5,class_weight={1:6,0:1})\n",
    "clf.fit(train_x, train_y)\n",
    "# try deleting all columns with missing values and logistic regression etc methods\n",
    "pred = clf.predict(test_x)\n",
    "preds = clf.predict_proba(test_x)[:,1]\n",
    "fpr, tpr, _ = metrics.roc_curve(test_y, preds)\n",
    "score = metrics.auc(fpr,tpr)\n",
    "print(confusion_matrix(test_y,pred))\n",
    "\n",
    "plt.figure()\n",
    "lw = 2\n",
    "plt.plot(fpr, tpr, color='darkorange',\n",
    "         lw=lw, label='ROC curve (area = %0.2f)' % score)\n",
    "plt.plot([0, 1], [0, 1], color='navy', lw=lw, linestyle='--')\n",
    "plt.xlim([0.0, 1.0])\n",
    "plt.ylim([0.0, 1.05])\n",
    "plt.xlabel('False Positive Rate')\n",
    "plt.ylabel('True Positive Rate')\n",
    "plt.title('ROC curve')\n",
    "plt.legend(loc=\"lower right\")\n",
    "plt.show()"
   ]
  },
  {
   "cell_type": "code",
   "execution_count": 18,
   "metadata": {},
   "outputs": [
    {
     "name": "stdout",
     "output_type": "stream",
     "text": [
      "tp fn fp tn\n",
      "8  7 8  39\n",
      "auc is 0.704255319149\n"
     ]
    },
    {
     "data": {
      "image/png": "[encoded data removed]",
      "text/plain": [
       "<matplotlib.figure.Figure at 0x10c806e48>"
      ]
     },
     "metadata": {},
     "output_type": "display_data"
    }
   ],
   "source": [
    "# logistic regression models example for the dummies\n",
    "logr = LogisticRegression(penalty='l1',C=3,class_weight={1:2,0:1})\n",
    "logr.fit(train_x,train_y)\n",
    "pred = logr.predict(test_x)\n",
    "tn, fp, fn, tp = confusion_matrix(test_y,pred).ravel()\n",
    "print('tp fn fp tn\\n%d  %d %d  %d'%(tp,fn,fp,tn))\n",
    "preds = clf.predict_proba(test_x)[:,1]\n",
    "fpr, tpr, _ = metrics.roc_curve(test_y, preds)\n",
    "print('auc is',metrics.auc(fpr,tpr))\n",
    "# tn, fp, fn, tp = confusion_matrix(test_y,pred).ravel()\n",
    "\n",
    "plt.figure()\n",
    "lw = 2\n",
    "plt.plot(fpr, tpr, color='darkorange',\n",
    "         lw=lw, label='ROC curve (area = %0.2f)' % score)\n",
    "plt.plot([0, 1], [0, 1], color='navy', lw=lw, linestyle='--')\n",
    "plt.xlim([0.0, 1.0])\n",
    "plt.ylim([0.0, 1.05])\n",
    "plt.xlabel('False Positive Rate')\n",
    "plt.ylabel('True Positive Rate')\n",
    "plt.title('ROC curve')\n",
    "plt.legend(loc=\"lower right\")\n",
    "plt.show()"
   ]
  },
  {
   "cell_type": "code",
   "execution_count": 21,
   "metadata": {},
   "outputs": [
    {
     "name": "stdout",
     "output_type": "stream",
     "text": [
      "[ 0.      0.      0.      0.125   0.125   0.1875  0.1875  0.25    0.25\n",
      "  0.375   0.4375  0.4375  0.5     0.5     0.5     0.5     0.5625  0.5625\n",
      "  0.625   0.625   0.8125  0.875   0.875   0.875   0.875   0.875   0.875\n",
      "  0.9375  1.    ]\n",
      "[ 0.          0.02173913  0.04347826  0.04347826  0.06521739  0.06521739\n",
      "  0.08695652  0.08695652  0.10869565  0.10869565  0.13043478  0.15217391\n",
      "  0.15217391  0.19565217  0.26086957  0.2826087   0.2826087   0.30434783\n",
      "  0.30434783  0.34782609  0.39130435  0.39130435  0.43478261  0.63043478\n",
      "  0.65217391  0.7173913   0.73913043  0.73913043  1.        ]\n"
     ]
    }
   ],
   "source": [
    "print(tpr)\n",
    "print(fpr)"
   ]
  },
  {
   "cell_type": "code",
   "execution_count": 22,
   "metadata": {},
   "outputs": [
    {
     "name": "stdout",
     "output_type": "stream",
     "text": [
      "tp fn fp tn\n",
      "0  16 0  46\n",
      "auc is 0.723505434783\n"
     ]
    },
    {
     "data": {
      "image/png": "[encoded data removed]",
      "text/plain": [
       "<matplotlib.figure.Figure at 0x109a120f0>"
      ]
     },
     "metadata": {},
     "output_type": "display_data"
    }
   ],
   "source": [
    "# elastic net\n",
    "from sklearn.linear_model import ElasticNet\n",
    "logr = ElasticNet(alpha=0.5,l1_ratio=0.5)\n",
    "logr.fit(train_x,train_y)\n",
    "pred = logr.predict(test_x)\n",
    "clas_pred = np.zeros((len(pred),1))\n",
    "clas_pred[pred>pred.mean()] = 1\n",
    "tn, fp, fn, tp = confusion_matrix(test_y,clas_pred).ravel()\n",
    "print('tp fn fp tn\\n%d  %d %d  %d'%(tp,fn,fp,tn))\n",
    "preds = clf.predict_proba(test_x)[:,1]\n",
    "fpr, tpr, _ = metrics.roc_curve(test_y, preds)\n",
    "print('auc is',metrics.auc(fpr,tpr))\n",
    "# tn, fp, fn, tp = confusion_matrix(test_y,pred).ravel()\n",
    "\n",
    "plt.figure()\n",
    "lw = 2\n",
    "plt.plot(fpr, tpr, color='darkorange',\n",
    "         lw=lw, label='ROC curve (area = %0.2f)' % score)\n",
    "plt.plot([0, 1], [0, 1], color='navy', lw=lw, linestyle='--')\n",
    "plt.xlim([0.0, 1.0])\n",
    "plt.ylim([0.0, 1.05])\n",
    "plt.xlabel('False Positive Rate')\n",
    "plt.ylabel('True Positive Rate')\n",
    "plt.title('ROC curve')\n",
    "plt.legend(loc=\"lower right\")\n",
    "plt.show()"
   ]
  },
  {
   "cell_type": "code",
   "execution_count": 21,
   "metadata": {},
   "outputs": [
    {
     "data": {
      "text/plain": [
       "ElasticNet(alpha=0.5, copy_X=True, fit_intercept=True, l1_ratio=0.5,\n",
       "      max_iter=1000, normalize=False, positive=False, precompute=False,\n",
       "      random_state=None, selection='cyclic', tol=0.0001, warm_start=False)"
      ]
     },
     "execution_count": 21,
     "metadata": {},
     "output_type": "execute_result"
    }
   ],
   "source": [
    "logr"
   ]
  },
  {
   "cell_type": "code",
   "execution_count": 22,
   "metadata": {},
   "outputs": [
    {
     "name": "stdout",
     "output_type": "stream",
     "text": [
      "ElasticNet(alpha=0.5, copy_X=True, fit_intercept=True, l1_ratio=0.5,\n",
      "      max_iter=1000, normalize=False, positive=False, precompute=False,\n",
      "      random_state=None, selection='cyclic', tol=0.0001, warm_start=False)\n"
     ]
    }
   ],
   "source": [
    "print(logr)"
   ]
  },
  {
   "cell_type": "code",
   "execution_count": 23,
   "metadata": {},
   "outputs": [
    {
     "name": "stdout",
     "output_type": "stream",
     "text": [
      "tp fn fp tn\n",
      "3  13 4  42\n",
      "auc is 0.648097826087\n"
     ]
    }
   ],
   "source": [
    "# gridsearchCV for the dataset\n",
    "param_grid = {'penalty':['l1','l2'],'C':[1,2,3,4,5]}\n",
    "classifier = GridSearchCV(estimator=LogisticRegression(),\n",
    "                          param_grid=param_grid)\n",
    "classifier.fit(train_x,train_y)\n",
    "pred = classifier.predict(test_x)\n",
    "tn, fp, fn, tp = confusion_matrix(test_y,pred).ravel()\n",
    "print('tp fn fp tn\\n%d  %d %d  %d'%(tp,fn,fp,tn))\n",
    "preds = classifier.predict_proba(test_x)[:,1]\n",
    "fpr, tpr, _ = metrics.roc_curve(test_y, preds)\n",
    "print('auc is',metrics.auc(fpr,tpr))"
   ]
  },
  {
   "cell_type": "code",
   "execution_count": 24,
   "metadata": {},
   "outputs": [
    {
     "name": "stdout",
     "output_type": "stream",
     "text": [
      "[ 0.12030859  0.08030165  0.06028698]\n",
      "(186, 181)\n"
     ]
    }
   ],
   "source": [
    "# pca\n",
    "pca = PCA()\n",
    "pca.fit(train_x)\n",
    "print(pca.explained_variance_ratio_[:3])\n",
    "train_x_pca = pca.transform(train_x)\n",
    "test_x_pca = pca.transform(test_x)\n",
    "print(train_x_pca.shape)"
   ]
  },
  {
   "cell_type": "code",
   "execution_count": 25,
   "metadata": {},
   "outputs": [
    {
     "name": "stdout",
     "output_type": "stream",
     "text": [
      "tp fn fp tn\n",
      "8  8 14  32\n",
      "0.654891304348\n"
     ]
    },
    {
     "data": {
      "image/png": "[encoded data removed]",
      "text/plain": [
       "<matplotlib.figure.Figure at 0x109c67588>"
      ]
     },
     "metadata": {},
     "output_type": "display_data"
    }
   ],
   "source": [
    "# pca + LogisticRegression\n",
    "param_grid = {'penalty':['l1','l2'],'C':[1,2,3,4,5],'tol':[1e-3,1e-4,1e-5]}\n",
    "classifier = GridSearchCV(estimator=LogisticRegression(class_weight='balanced'),\n",
    "                          param_grid=param_grid)\n",
    "classifier.fit(train_x_pca,train_y)\n",
    "pred = classifier.predict(test_x_pca)\n",
    "tn, fp, fn, tp = confusion_matrix(test_y,pred).ravel()\n",
    "print('tp fn fp tn\\n%d  %d %d  %d'%(tp,fn,fp,tn))\n",
    "preds = classifier.predict_proba(test_x_pca)[:,1]\n",
    "fpr, tpr, _ = metrics.roc_curve(test_y, preds)\n",
    "score = metrics.auc(fpr,tpr)\n",
    "print(score)\n",
    "\n",
    "plt.figure()\n",
    "lw = 2\n",
    "plt.plot(fpr, tpr, color='darkorange',\n",
    "         lw=lw, label='ROC curve (area = %0.2f)' % score)\n",
    "plt.plot([0, 1], [0, 1], color='navy', lw=lw, linestyle='--')\n",
    "plt.xlim([0.0, 1.0])\n",
    "plt.ylim([0.0, 1.05])\n",
    "plt.xlabel('False Positive Rate')\n",
    "plt.ylabel('True Positive Rate')\n",
    "plt.title('ROC curve')\n",
    "plt.legend(loc=\"lower right\")\n",
    "plt.show()"
   ]
  },
  {
   "cell_type": "code",
   "execution_count": 26,
   "metadata": {},
   "outputs": [
    {
     "name": "stdout",
     "output_type": "stream",
     "text": [
      "RandomForestClassifier(bootstrap=True, class_weight=None, criterion='gini',\n",
      "            max_depth=4, max_features='auto', max_leaf_nodes=None,\n",
      "            min_impurity_decrease=0.0, min_impurity_split=None,\n",
      "            min_samples_leaf=1, min_samples_split=2,\n",
      "            min_weight_fraction_leaf=0.0, n_estimators=50, n_jobs=1,\n",
      "            oob_score=False, random_state=None, verbose=0,\n",
      "            warm_start=False)\n"
     ]
    },
    {
     "data": {
      "image/png": "[encoded data removed]",
      "text/plain": [
       "<matplotlib.figure.Figure at 0x1097a9c88>"
      ]
     },
     "metadata": {},
     "output_type": "display_data"
    }
   ],
   "source": [
    "# ranfor cv\n",
    "param_grid = {'max_depth':[2,3,4,5,6,7,8],\n",
    "              'n_estimators':[50,100]}\n",
    "ranfor = GridSearchCV(estimator=RandomForestClassifier(),\n",
    "                      param_grid=param_grid)\n",
    "ranfor.fit(train_x_pca,train_y)\n",
    "print(ranfor.best_estimator_)\n",
    "\n",
    "plt.figure()\n",
    "lw = 2\n",
    "plt.plot(fpr, tpr, color='darkorange',\n",
    "         lw=lw, label='ROC curve (area = %0.2f)' % score)\n",
    "plt.plot([0, 1], [0, 1], color='navy', lw=lw, linestyle='--')\n",
    "plt.xlim([0.0, 1.0])\n",
    "plt.ylim([0.0, 1.05])\n",
    "plt.xlabel('False Positive Rate')\n",
    "plt.ylabel('True Positive Rate')\n",
    "plt.title('ROC curve')\n",
    "plt.legend(loc=\"lower right\")\n",
    "plt.show()"
   ]
  },
  {
   "cell_type": "code",
   "execution_count": 28,
   "metadata": {},
   "outputs": [
    {
     "name": "stdout",
     "output_type": "stream",
     "text": [
      "tp fn fp tn\n",
      "0  15 0  47\n"
     ]
    }
   ],
   "source": [
    "# svm\n",
    "svm = SVC()\n",
    "svm.fit(train_x, train_y)\n",
    "pred = svm.predict(test_x)\n",
    "tn, fp, fn, tp = confusion_matrix(test_y,pred).ravel()\n",
    "print('tp fn fp tn\\n%d  %d %d  %d'%(tp,fn,fp,tn))"
   ]
  },
  {
   "cell_type": "code",
   "execution_count": 33,
   "metadata": {},
   "outputs": [
    {
     "name": "stdout",
     "output_type": "stream",
     "text": [
      "Accuracy: 0.80 (+/- 0.03)\n"
     ]
    }
   ],
   "source": [
    "from sklearn.model_selection import cross_val_score\n",
    "scores = cross_val_score(ranfor, train_x_pca, train_y, cv=10)\n",
    "print(\"Accuracy: %0.2f (+/- %0.2f)\" % (scores.mean(), scores.std() * 2))"
   ]
  },
  {
   "cell_type": "code",
   "execution_count": 47,
   "metadata": {},
   "outputs": [
    {
     "data": {
      "text/plain": [
       "ElasticNet(alpha=1.0, copy_X=True, fit_intercept=True, l1_ratio=0.5,\n",
       "      max_iter=1000, normalize=False, positive=False, precompute=False,\n",
       "      random_state=0, selection='cyclic', tol=0.0001, warm_start=False)"
      ]
     },
     "execution_count": 47,
     "metadata": {},
     "output_type": "execute_result"
    }
   ],
   "source": [
    "from sklearn.linear_model import ElasticNet\n",
    "encv = ElasticNet(l1_ratio=0.5, random_state=0)\n",
    "encv.fit(train_x,train_y)\n"
   ]
  },
  {
   "cell_type": "code",
   "execution_count": 48,
   "metadata": {},
   "outputs": [
    {
     "data": {
      "text/plain": [
       "0.13430941402950569"
      ]
     },
     "execution_count": 48,
     "metadata": {},
     "output_type": "execute_result"
    }
   ],
   "source": [
    "encv.score(train_x,train_y)"
   ]
  },
  {
   "cell_type": "code",
   "execution_count": null,
   "metadata": {},
   "outputs": [],
   "source": [
    "# pca+LinearRegression\n",
    "# cv results\n"
   ]
  },
  {
   "cell_type": "code",
   "execution_count": null,
   "metadata": {},
   "outputs": [],
   "source": [
    "# pca+ElasticNet\n",
    "# cv results"
   ]
  },
  {
   "cell_type": "code",
   "execution_count": null,
   "metadata": {},
   "outputs": [],
   "source": [
    "# pca+RandomForest\n",
    "# cv results"
   ]
  }
 ],
 "metadata": {
  "kernelspec": {
   "display_name": "py3",
   "language": "python",
   "name": "py3"
  },
  "language_info": {
   "codemirror_mode": {
    "name": "ipython",
    "version": 3
   },
   "file_extension": ".py",
   "mimetype": "text/x-python",
   "name": "python",
   "nbconvert_exporter": "python",
   "pygments_lexer": "ipython3",
   "version": "3.6.3"
  }
 },
 "nbformat": 4,
 "nbformat_minor": 2
}
